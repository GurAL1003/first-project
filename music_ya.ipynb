{
 "cells": [
  {
   "cell_type": "markdown",
   "metadata": {},
   "source": [
    "<div style=\"border-radius: 15px; border: 3px solid indigo; padding: 15px;\">\n",
    "<b> Комментарий ревьюера</b>\n",
    "    \n",
    "Привет! Меня зовут Светлана Носова, я буду проверять твой проект. Если не против, давай общаться на «ты». Если тебе такой стиль общения не нравится, напиши об этом, будем на «вы». \n",
    "\n",
    "Сразу хочу обратить внимание на цветовую разметку.\n",
    "\n",
    "<div class=\"alert alert-success\" style=\"border-radius: 15px; box-shadow: 4px 4px 4px; border: 1px solid \">\n",
    "\n",
    "Зеленым отмечены отличные решения и идеи, которые можно и нужно использовать в будущем.\n",
    "</div>\n",
    "    \n",
    "<div class=\"alert alert-warning\" style=\"border-radius: 15px; box-shadow: 4px 4px 4px; border: 1px solid \">\n",
    "\n",
    "Желтым отмечено то, что можно или нужно оптимизировать, в зависимости от контекста.</div>    \n",
    "    \n",
    "<div class=\"alert alert-danger\" style=\"border-radius: 15px; box-shadow: 4px 4px 4px; border: 1px solid \">\n",
    "\n",
    "Красным  обозначены пропущенные пункты задания и ошибки, которые обязательно надо будет исправить, чтобы результаты были верные.</div> \n",
    "    \n",
    "**Ответы на мои комментарии или доработки по моим рекомендациям попрошу выделить каким-нибудь цветом, кроме перечисленных.**\n",
    "Также я попрошу тебя **не менять, не передвигать и не удалять мои комментарии**, чтобы при последующей проверке мне было проще ориентироваться.\n",
    "    \n",
    "Кроме того, комментарии у меня обозначены как заголовки. Это сбивает содержание, но при последующей проверке я могу снять с них заголовок, если тебе так будет удобнее. При этом они удобны, поскольку ты сразу можешь перейти к ним.   \n",
    "        \n",
    "<hr>\n",
    "    \n",
    "**По проекту:** работа выполнена очень хорошо. Функции написаны верно, группировки и сортировки применены правильно. Код чистый, проверять приятно. Все задания выполнены и получены верные результаты. Я оставила парочку рекомендаций по улучшению работы. Вопросов у меня нет, проект я могу принять уже сейчас. Однако я отправлю его на доработку, чтобы у тебя была возможность задать мне вопросы, если они есть. Если же их нет, сообщи об этом в ответном комментарии, пожалуйста, чтобы я могла с чистой совестью принять проект :)\n",
    "\n",
    "Ниже оставлю несколько подсказок по оформлению, которые могут пригодиться в будущем..\n",
    "    \n",
    "<hr style=\"border-top: 3px solid purple; \"></hr>\n",
    "Комментарии можешь оставлять с помощью такого кода в Markdown ячейке:\n",
    "    \n",
    "    \n",
    "    <div class=\"alert alert-info\">\n",
    "    <h2> Комментарий студента</h2>\n",
    "\n",
    "    Тут текст.\n",
    "    </div>\n",
    "    \n",
    "    \n",
    "    <font color='red'> Этот код позволяет менять цвет текста. </font>     \n",
    "\n",
    "<font color='red'> Выглядит это так. </font> \n",
    "  \n",
    "    \n",
    "Если не хочешь, чтобы твои комментарии отображались в содержании как заголовки, замени **h2** на **b** или добавь `<a class=\"tocSkip\">` после фразы *Комментарий студента*.\n",
    "\n",
    "\n",
    "О том, как **форматировать текст** в Markdown ячейке или как добавлять ссылки, ты можешь узнать [тут](https://sqlbak.com/blog/jupyter-notebook-markdown-cheatsheet) и [вот тут](https://medium.com/analytics-vidhya/the-ultimate-markdown-guide-for-jupyter-notebook-d5e5abf728fd).\n",
    "</div>"
   ]
  },
  {
   "cell_type": "markdown",
   "metadata": {},
   "source": [
    "<div style=\"border-radius: 15px; border: 3px solid blue; padding: 15px;\">\n",
    "<b> Комментарий студента</b>\n",
    "\n",
    "\n",
    "\n",
    "\n",
    "\n",
    "<font color='dodgerblue'> Привет, Светлана! Рад знакомству! Меня зовут Александр Гурчев. Твои рекомандации мне очень     \n",
    "<b></b> понравились, так как много чего ещё не знаю. Список моих вопросов тебе:\n",
    "    <ul>\n",
    " <li>Правильно я понял насчет `display()`, если у нас один ввывод датафрейм, то можно не использовать метод `display()`?</li>\n",
    " <li>Там где мы вызваем функцию `number_tracks` 6 раз подряд в ручную (глава 13). Можно это сделать с помощью словаря и цикла? Создал словарь где ключ-города,а значения это дни и у меня получилось сделать это вот так: `['Moscow', 15740, 11056, 15945,'Saint-Petersburg', 5614, 7003, 5895]`.У меня не получилось сделать список в списке, как надо было для того чтобы создать датайфрейм:'`[['Moscow', 15740, 11056, 15945],['Saint-Petersburg', 5614, 7003, 5895,]]`.Хотел узнать твое мнение? Стоит ли так делать или это усложнения кода, которая не к чему. Или все же способ есть и он более утонченный?   </li>\n",
    " P.S. Извиняюсь за такой **колор**, перепробовал все палитру:) Все самые лучшие цвета ты уже использовала:)\n",
    " P.S.S **Спасибо!**\n",
    " </ul>.</font> </div>\n",
    " "
   ]
  },
  {
   "cell_type": "markdown",
   "metadata": {},
   "source": [
    "<div style=\"border-radius: 15px; border: 3px solid indigo; padding: 15px;\">\n",
    "<b> Комментарий ревьюера 2</b>\n",
    "\n",
    "Взаимно :) \n",
    "    \n",
    "    \n",
    "- Да. Сразу пишем `df.head()`. Дело в том, что мы находимся в интерактивной среде jupyter, поэтому ячейки отрабатывают сразу. В среде разработки вроде PyCharm надо будет не только использовать **display**, но и импортировать его: `from IPython.display import display`.  \n",
    "    \n",
    "    \n",
    "- Наоборот, ты прав. Лучше оптимизировать действия и использовать переменные вместо констант. Можно сделать так: пускаем цикл по городам, а потом внутри него по дням.  Это упростит работу. При создании таблиц вручную есть риск опечаток :) \n",
    "    \n",
    "    \n",
    "- Цвет хороший :)    <font color='dodgerblue'> dodgerblue мне еще нравится.  Наверное, в честь LA Dodgers назван :)</font>   \n",
    "    \n",
    "    \n",
    "    \n",
    "Что ж, тогда проект я принимаю. Успехов тебе и хороших выходных :)    \n",
    "</div>"
   ]
  },
  {
   "cell_type": "markdown",
   "metadata": {
    "id": "E0vqbgi9ay0H"
   },
   "source": [
    "# Яндекс.Музыка"
   ]
  },
  {
   "cell_type": "markdown",
   "metadata": {
    "id": "VUC88oWjTJw2"
   },
   "source": [
    "Сравнение Москвы и Петербурга окружено мифами. Например:\n",
    " * Москва — мегаполис, подчинённый жёсткому ритму рабочей недели;\n",
    " * Петербург — культурная столица, со своими вкусами.\n",
    "\n",
    "На данных Яндекс.Музыки вы сравните поведение пользователей двух столиц.\n",
    "\n",
    "**Цель исследования** — проверьте три гипотезы:\n",
    "1. Активность пользователей зависит от дня недели. Причём в Москве и Петербурге это проявляется по-разному.\n",
    "2. В понедельник утром в Москве преобладают одни жанры, а в Петербурге — другие. Так же и вечером пятницы преобладают разные жанры — в зависимости от города. \n",
    "3. Москва и Петербург предпочитают разные жанры музыки. В Москве чаще слушают поп-музыку, в Петербурге — русский рэп.\n",
    "\n",
    "**Ход исследования**\n",
    "\n",
    "Данные о поведении пользователей вы получите из файла `yandex_music_project.csv`. О качестве данных ничего не известно. Поэтому перед проверкой гипотез понадобится обзор данных. \n",
    "\n",
    "Вы проверите данные на ошибки и оцените их влияние на исследование. Затем, на этапе предобработки вы поищете возможность исправить самые критичные ошибки данных.\n",
    " \n",
    "Таким образом, исследование пройдёт в три этапа:\n",
    " 1. Обзор данных.\n",
    " 2. Предобработка данных.\n",
    " 3. Проверка гипотез.\n",
    "\n"
   ]
  },
  {
   "cell_type": "markdown",
   "metadata": {},
   "source": [
    "<div class=\"alert alert-success\" style=\"border-radius: 15px; box-shadow: 4px 4px 4px; border: 1px solid \">\n",
    "<b> Комментарий ревьюера</b>\n",
    "    \n",
    "Наличие вводной части с описанием данных это хороший тон. Правильно делаешь, что не убираешь ее.</div>"
   ]
  },
  {
   "cell_type": "markdown",
   "metadata": {
    "id": "Ml1hmfXC_Zcs"
   },
   "source": [
    "## Обзор данных\n",
    "\n",
    "Составьте первое представление о данных Яндекс.Музыки.\n",
    "\n",
    "\n"
   ]
  },
  {
   "cell_type": "markdown",
   "metadata": {
    "id": "57eAOGIz_Zcs"
   },
   "source": [
    "Основной инструмент аналитика — `pandas`. Импортируйте эту библиотеку."
   ]
  },
  {
   "cell_type": "code",
   "execution_count": 1,
   "metadata": {
    "id": "AXN7PHPN_Zcs"
   },
   "outputs": [],
   "source": [
    "import pandas as pd# импорт библиотеки pandas"
   ]
  },
  {
   "cell_type": "markdown",
   "metadata": {},
   "source": [
    "<div class=\"alert alert-success\" style=\"border-radius: 15px; box-shadow: 4px 4px 4px; border: 1px solid \">\n",
    "<b> Комментарий ревьюера</b>\n",
    "    \n",
    "Хорошо, что используешь именно это сокращение для pandas. Оно является общепринятым сокращением, равно как np для numpy. Это удобно, поскольку ни один программист или аналитик не обходится без поиска информации, чтения документации и даже поиска уже готового или частично готового решения какой-то подзадачи. Также это упрощает работу с чужим кодом, что довольно часто происходит при работе в команде. Кроме того, это экономит время. Например, при копипасте.  \n",
    "</div>"
   ]
  },
  {
   "cell_type": "markdown",
   "metadata": {
    "id": "SG23P8tt_Zcs"
   },
   "source": [
    "Прочитайте файл `yandex_music_project.csv` из папки `/datasets` и сохраните его в переменной `df`:"
   ]
  },
  {
   "cell_type": "code",
   "execution_count": 2,
   "metadata": {
    "id": "fFVu7vqh_Zct"
   },
   "outputs": [],
   "source": [
    "df = pd.read_csv('/datasets/yandex_music_project.csv')# чтение файла с данными и сохранение в df"
   ]
  },
  {
   "cell_type": "markdown",
   "metadata": {
    "id": "rDoOMd3uTqnZ"
   },
   "source": [
    "Выведите на экран первые десять строк таблицы:"
   ]
  },
  {
   "cell_type": "code",
   "execution_count": 3,
   "metadata": {
    "id": "oWTVX3gW_Zct"
   },
   "outputs": [
    {
     "data": {
      "text/html": [
       "<div>\n",
       "<style scoped>\n",
       "    .dataframe tbody tr th:only-of-type {\n",
       "        vertical-align: middle;\n",
       "    }\n",
       "\n",
       "    .dataframe tbody tr th {\n",
       "        vertical-align: top;\n",
       "    }\n",
       "\n",
       "    .dataframe thead th {\n",
       "        text-align: right;\n",
       "    }\n",
       "</style>\n",
       "<table border=\"1\" class=\"dataframe\">\n",
       "  <thead>\n",
       "    <tr style=\"text-align: right;\">\n",
       "      <th></th>\n",
       "      <th>userID</th>\n",
       "      <th>Track</th>\n",
       "      <th>artist</th>\n",
       "      <th>genre</th>\n",
       "      <th>City</th>\n",
       "      <th>time</th>\n",
       "      <th>Day</th>\n",
       "    </tr>\n",
       "  </thead>\n",
       "  <tbody>\n",
       "    <tr>\n",
       "      <td>0</td>\n",
       "      <td>FFB692EC</td>\n",
       "      <td>Kamigata To Boots</td>\n",
       "      <td>The Mass Missile</td>\n",
       "      <td>rock</td>\n",
       "      <td>Saint-Petersburg</td>\n",
       "      <td>20:28:33</td>\n",
       "      <td>Wednesday</td>\n",
       "    </tr>\n",
       "    <tr>\n",
       "      <td>1</td>\n",
       "      <td>55204538</td>\n",
       "      <td>Delayed Because of Accident</td>\n",
       "      <td>Andreas Rönnberg</td>\n",
       "      <td>rock</td>\n",
       "      <td>Moscow</td>\n",
       "      <td>14:07:09</td>\n",
       "      <td>Friday</td>\n",
       "    </tr>\n",
       "    <tr>\n",
       "      <td>2</td>\n",
       "      <td>20EC38</td>\n",
       "      <td>Funiculì funiculà</td>\n",
       "      <td>Mario Lanza</td>\n",
       "      <td>pop</td>\n",
       "      <td>Saint-Petersburg</td>\n",
       "      <td>20:58:07</td>\n",
       "      <td>Wednesday</td>\n",
       "    </tr>\n",
       "    <tr>\n",
       "      <td>3</td>\n",
       "      <td>A3DD03C9</td>\n",
       "      <td>Dragons in the Sunset</td>\n",
       "      <td>Fire + Ice</td>\n",
       "      <td>folk</td>\n",
       "      <td>Saint-Petersburg</td>\n",
       "      <td>08:37:09</td>\n",
       "      <td>Monday</td>\n",
       "    </tr>\n",
       "    <tr>\n",
       "      <td>4</td>\n",
       "      <td>E2DC1FAE</td>\n",
       "      <td>Soul People</td>\n",
       "      <td>Space Echo</td>\n",
       "      <td>dance</td>\n",
       "      <td>Moscow</td>\n",
       "      <td>08:34:34</td>\n",
       "      <td>Monday</td>\n",
       "    </tr>\n",
       "    <tr>\n",
       "      <td>5</td>\n",
       "      <td>842029A1</td>\n",
       "      <td>Преданная</td>\n",
       "      <td>IMPERVTOR</td>\n",
       "      <td>rusrap</td>\n",
       "      <td>Saint-Petersburg</td>\n",
       "      <td>13:09:41</td>\n",
       "      <td>Friday</td>\n",
       "    </tr>\n",
       "    <tr>\n",
       "      <td>6</td>\n",
       "      <td>4CB90AA5</td>\n",
       "      <td>True</td>\n",
       "      <td>Roman Messer</td>\n",
       "      <td>dance</td>\n",
       "      <td>Moscow</td>\n",
       "      <td>13:00:07</td>\n",
       "      <td>Wednesday</td>\n",
       "    </tr>\n",
       "    <tr>\n",
       "      <td>7</td>\n",
       "      <td>F03E1C1F</td>\n",
       "      <td>Feeling This Way</td>\n",
       "      <td>Polina Griffith</td>\n",
       "      <td>dance</td>\n",
       "      <td>Moscow</td>\n",
       "      <td>20:47:49</td>\n",
       "      <td>Wednesday</td>\n",
       "    </tr>\n",
       "    <tr>\n",
       "      <td>8</td>\n",
       "      <td>8FA1D3BE</td>\n",
       "      <td>И вновь продолжается бой</td>\n",
       "      <td>NaN</td>\n",
       "      <td>ruspop</td>\n",
       "      <td>Moscow</td>\n",
       "      <td>09:17:40</td>\n",
       "      <td>Friday</td>\n",
       "    </tr>\n",
       "    <tr>\n",
       "      <td>9</td>\n",
       "      <td>E772D5C0</td>\n",
       "      <td>Pessimist</td>\n",
       "      <td>NaN</td>\n",
       "      <td>dance</td>\n",
       "      <td>Saint-Petersburg</td>\n",
       "      <td>21:20:49</td>\n",
       "      <td>Wednesday</td>\n",
       "    </tr>\n",
       "  </tbody>\n",
       "</table>\n",
       "</div>"
      ],
      "text/plain": [
       "     userID                        Track            artist   genre  \\\n",
       "0  FFB692EC            Kamigata To Boots  The Mass Missile    rock   \n",
       "1  55204538  Delayed Because of Accident  Andreas Rönnberg    rock   \n",
       "2    20EC38            Funiculì funiculà       Mario Lanza     pop   \n",
       "3  A3DD03C9        Dragons in the Sunset        Fire + Ice    folk   \n",
       "4  E2DC1FAE                  Soul People        Space Echo   dance   \n",
       "5  842029A1                    Преданная         IMPERVTOR  rusrap   \n",
       "6  4CB90AA5                         True      Roman Messer   dance   \n",
       "7  F03E1C1F             Feeling This Way   Polina Griffith   dance   \n",
       "8  8FA1D3BE     И вновь продолжается бой               NaN  ruspop   \n",
       "9  E772D5C0                    Pessimist               NaN   dance   \n",
       "\n",
       "             City        time        Day  \n",
       "0  Saint-Petersburg  20:28:33  Wednesday  \n",
       "1            Moscow  14:07:09     Friday  \n",
       "2  Saint-Petersburg  20:58:07  Wednesday  \n",
       "3  Saint-Petersburg  08:37:09     Monday  \n",
       "4            Moscow  08:34:34     Monday  \n",
       "5  Saint-Petersburg  13:09:41     Friday  \n",
       "6            Moscow  13:00:07  Wednesday  \n",
       "7            Moscow  20:47:49  Wednesday  \n",
       "8            Moscow  09:17:40     Friday  \n",
       "9  Saint-Petersburg  21:20:49  Wednesday  "
      ]
     },
     "metadata": {},
     "output_type": "display_data"
    }
   ],
   "source": [
    "display(df.head(10))# получение первых 10 строк таблицы df"
   ]
  },
  {
   "cell_type": "markdown",
   "metadata": {},
   "source": [
    "<div class=\"alert alert-success\" style=\"border-radius: 15px; box-shadow: 4px 4px 4px; border: 1px solid \">\n",
    "<b> Комментарий ревьюера</b>\n",
    "    \n",
    "Правильно делаешь, что  используешь метод **display**. Обрати внимание на то, что команда на вывод в ячейке одна, поэтому можно сразу писать ```df.head(10)```. Другое дело, когда у нас несколько таблиц выводится в одной ячейке. Тут без **display** не обойтись, поскольку отработает только последний вывод:\n",
    "</div>"
   ]
  },
  {
   "cell_type": "code",
   "execution_count": 4,
   "metadata": {},
   "outputs": [
    {
     "data": {
      "text/html": [
       "<div>\n",
       "<style scoped>\n",
       "    .dataframe tbody tr th:only-of-type {\n",
       "        vertical-align: middle;\n",
       "    }\n",
       "\n",
       "    .dataframe tbody tr th {\n",
       "        vertical-align: top;\n",
       "    }\n",
       "\n",
       "    .dataframe thead th {\n",
       "        text-align: right;\n",
       "    }\n",
       "</style>\n",
       "<table border=\"1\" class=\"dataframe\">\n",
       "  <thead>\n",
       "    <tr style=\"text-align: right;\">\n",
       "      <th></th>\n",
       "      <th>userID</th>\n",
       "      <th>Track</th>\n",
       "      <th>artist</th>\n",
       "      <th>genre</th>\n",
       "      <th>City</th>\n",
       "      <th>time</th>\n",
       "      <th>Day</th>\n",
       "    </tr>\n",
       "  </thead>\n",
       "  <tbody>\n",
       "    <tr>\n",
       "      <td>0</td>\n",
       "      <td>FFB692EC</td>\n",
       "      <td>Kamigata To Boots</td>\n",
       "      <td>The Mass Missile</td>\n",
       "      <td>rock</td>\n",
       "      <td>Saint-Petersburg</td>\n",
       "      <td>20:28:33</td>\n",
       "      <td>Wednesday</td>\n",
       "    </tr>\n",
       "    <tr>\n",
       "      <td>1</td>\n",
       "      <td>55204538</td>\n",
       "      <td>Delayed Because of Accident</td>\n",
       "      <td>Andreas Rönnberg</td>\n",
       "      <td>rock</td>\n",
       "      <td>Moscow</td>\n",
       "      <td>14:07:09</td>\n",
       "      <td>Friday</td>\n",
       "    </tr>\n",
       "  </tbody>\n",
       "</table>\n",
       "</div>"
      ],
      "text/plain": [
       "     userID                        Track            artist genre  \\\n",
       "0  FFB692EC            Kamigata To Boots  The Mass Missile  rock   \n",
       "1  55204538  Delayed Because of Accident  Andreas Rönnberg  rock   \n",
       "\n",
       "             City        time        Day  \n",
       "0  Saint-Petersburg  20:28:33  Wednesday  \n",
       "1            Moscow  14:07:09     Friday  "
      ]
     },
     "execution_count": 4,
     "metadata": {},
     "output_type": "execute_result"
    }
   ],
   "source": [
    "# КОД РЕВЬЮЕРА\n",
    "\n",
    "df.head(10)\n",
    "df.head(6)\n",
    "df.head(2)"
   ]
  },
  {
   "cell_type": "markdown",
   "metadata": {
    "id": "EO73Kwic_Zct"
   },
   "source": [
    "Одной командой получить общую информацию о таблице:"
   ]
  },
  {
   "cell_type": "code",
   "execution_count": 5,
   "metadata": {
    "id": "DSf2kIb-_Zct"
   },
   "outputs": [
    {
     "name": "stdout",
     "output_type": "stream",
     "text": [
      "<class 'pandas.core.frame.DataFrame'>\n",
      "RangeIndex: 65079 entries, 0 to 65078\n",
      "Data columns (total 7 columns):\n",
      "  userID    65079 non-null object\n",
      "Track       63848 non-null object\n",
      "artist      57876 non-null object\n",
      "genre       63881 non-null object\n",
      "  City      65079 non-null object\n",
      "time        65079 non-null object\n",
      "Day         65079 non-null object\n",
      "dtypes: object(7)\n",
      "memory usage: 3.5+ MB\n"
     ]
    }
   ],
   "source": [
    "df.info()# получение общей информации о данных в таблице df"
   ]
  },
  {
   "cell_type": "markdown",
   "metadata": {
    "id": "TaQ2Iwbr_Zct"
   },
   "source": [
    "Итак, в таблице семь столбцов. Тип данных во всех столбцах — `object`.\n",
    "\n",
    "Согласно документации к данным:\n",
    "* `userID` — идентификатор пользователя;\n",
    "* `Track` — название трека;  \n",
    "* `artist` — имя исполнителя;\n",
    "* `genre` — название жанра;\n",
    "* `City` — город пользователя;\n",
    "* `time` — время начала прослушивания;\n",
    "* `Day` — день недели.\n",
    "\n",
    "В названиях колонок видны три нарушения стиля:\n",
    "1. Строчные буквы сочетаются с прописными.\n",
    "2. Встречаются пробелы.\n",
    "3. Не соблюден стиль \"змеиный_регистер\".\n",
    "\n",
    "\n",
    "\n",
    "Количество значений в столбцах различается. Значит, в данных есть пропущенные значения.\n"
   ]
  },
  {
   "cell_type": "markdown",
   "metadata": {},
   "source": [
    "<div class=\"alert alert-success\" style=\"border-radius: 15px; box-shadow: 4px 4px 4px; border: 1px solid \">\n",
    "<b> Комментарий ревьюера</b>\n",
    "    \n",
    "Молодец, верно определено третье нарушение стиля.\n",
    "</div>"
   ]
  },
  {
   "cell_type": "markdown",
   "metadata": {
    "id": "MCB6-dXG_Zct"
   },
   "source": [
    "**Выводы**\n",
    "\n",
    "В каждой строке таблицы — данные о прослушанном треке. Часть колонок описывает саму композицию: название, исполнителя и жанр. Остальные данные рассказывают о пользователе: из какого он города, когда он слушал музыку. \n",
    "\n",
    "Предварительно можно утверждать, что, данных достаточно для проверки гипотез. Но встречаются пропуски в данных, а в названиях колонок — расхождения с хорошим стилем.\n",
    "\n",
    "Чтобы двигаться дальше, нужно устранить проблемы в данных."
   ]
  },
  {
   "cell_type": "markdown",
   "metadata": {},
   "source": [
    "<div class=\"alert alert-success\" style=\"border-radius: 15px; box-shadow: 4px 4px 4px; border: 1px solid \">\n",
    "<b> Комментарий ревьюера</b>\n",
    "    \n",
    "Предварительная оценка это неотъемлемая часть работы с данными. \n",
    "</div>"
   ]
  },
  {
   "cell_type": "markdown",
   "metadata": {
    "id": "SjYF6Ub9_Zct"
   },
   "source": [
    "## Предобработка данных\n",
    "Исправьте стиль в заголовках столбцов, исключите пропуски. Затем проверьте данные на дубликаты."
   ]
  },
  {
   "cell_type": "markdown",
   "metadata": {
    "id": "dIaKXr29_Zct"
   },
   "source": [
    "### Стиль заголовков\n",
    "Выведите на экран названия столбцов:"
   ]
  },
  {
   "cell_type": "code",
   "execution_count": 6,
   "metadata": {
    "id": "oKOTdF_Q_Zct"
   },
   "outputs": [
    {
     "data": {
      "text/plain": [
       "Index(['  userID', 'Track', 'artist', 'genre', '  City  ', 'time', 'Day'], dtype='object')"
      ]
     },
     "execution_count": 6,
     "metadata": {},
     "output_type": "execute_result"
    }
   ],
   "source": [
    "df.columns# перечень названий столбцов таблицы df"
   ]
  },
  {
   "cell_type": "markdown",
   "metadata": {
    "id": "FPZA3ki8xe7T"
   },
   "source": []
  },
  {
   "cell_type": "markdown",
   "metadata": {
    "id": "zj5534cv_Zct"
   },
   "source": [
    "Приведите названия в соответствие с хорошим стилем:\n",
    "* несколько слов в названии запишите в «змеином_регистре»,\n",
    "* все символы сделайте строчными,\n",
    "* устраните пробелы.\n",
    "\n",
    "Для этого переименуйте колонки так:\n",
    "* `'  userID'` → `'user_id'`;\n",
    "* `'Track'` → `'track'`;\n",
    "* `'  City  '` → `'city'`;\n",
    "* `'Day'` → `'day'`."
   ]
  },
  {
   "cell_type": "code",
   "execution_count": 7,
   "metadata": {
    "id": "ISlFqs5y_Zct"
   },
   "outputs": [],
   "source": [
    "df = df.rename(columns={'  userID':'user_id', 'Track':'track', '  City  ':'city', 'Day':'day'})# переименование столбцов"
   ]
  },
  {
   "cell_type": "markdown",
   "metadata": {
    "id": "1dqbh00J_Zct"
   },
   "source": [
    "Проверьте результат. Для этого ещё раз выведите на экран названия столбцов:"
   ]
  },
  {
   "cell_type": "code",
   "execution_count": 8,
   "metadata": {
    "id": "d4NOAmTW_Zct"
   },
   "outputs": [
    {
     "data": {
      "text/plain": [
       "Index(['user_id', 'track', 'artist', 'genre', 'city', 'time', 'day'], dtype='object')"
      ]
     },
     "execution_count": 8,
     "metadata": {},
     "output_type": "execute_result"
    }
   ],
   "source": [
    "df.columns# проверка результатов - перечень названий столбцов"
   ]
  },
  {
   "cell_type": "markdown",
   "metadata": {
    "id": "5ISfbcfY_Zct"
   },
   "source": [
    "### Пропуски значений\n",
    "Сначала посчитайте, сколько в таблице пропущенных значений. Для этого достаточно двух методов `pandas`:"
   ]
  },
  {
   "cell_type": "code",
   "execution_count": 9,
   "metadata": {
    "id": "RskX29qr_Zct"
   },
   "outputs": [
    {
     "name": "stdout",
     "output_type": "stream",
     "text": [
      "user_id       0\n",
      "track      1231\n",
      "artist     7203\n",
      "genre      1198\n",
      "city          0\n",
      "time          0\n",
      "day           0\n",
      "dtype: int64\n",
      "user_id       0\n",
      "track      1231\n",
      "artist     7203\n",
      "genre      1198\n",
      "city          0\n",
      "time          0\n",
      "day           0\n",
      "dtype: int64\n"
     ]
    }
   ],
   "source": [
    "print(df.isna().sum())# хорошим тоном среди аналитиков считается вызов isna()\n",
    "print(df.isnull().sum())# вторый метод для подсчета пропущенных значений, \n",
    "                        "
   ]
  },
  {
   "cell_type": "markdown",
   "metadata": {},
   "source": [
    "Два метода показали одинаковое кол-во пропущенных значений в таблице."
   ]
  },
  {
   "cell_type": "markdown",
   "metadata": {
    "id": "qubhgnlO_Zct"
   },
   "source": [
    "Не все пропущенные значения влияют на исследование. Так в `track` и `artist` пропуски не важны для вашей работы. Достаточно заменить их явными обозначениями.\n",
    "\n",
    "Но пропуски в `genre` могут помешать сравнению музыкальных вкусов в Москве и Санкт-Петербурге. На практике было бы правильно установить причину пропусков и восстановить данные. Такой возможности нет в учебном проекте. Придётся:\n",
    "* заполнить и эти пропуски явными обозначениями,\n",
    "* оценить, насколько они повредят расчётам. "
   ]
  },
  {
   "cell_type": "markdown",
   "metadata": {
    "id": "fSv2laPA_Zct"
   },
   "source": [
    "Замените пропущенные значения в столбцах `track`, `artist` и `genre` на строку `'unknown'`. Для этого создайте список `columns_to_replace`, переберите его элементы циклом `for` и для каждого столбца выполните замену пропущенных значений:"
   ]
  },
  {
   "cell_type": "code",
   "execution_count": 10,
   "metadata": {
    "id": "KplB5qWs_Zct"
   },
   "outputs": [],
   "source": [
    "columns_to_replace = ['track', 'artist', 'genre']\n",
    "for column in columns_to_replace:\n",
    "    df[column] = df[column].fillna('unknown') # перебор названий столбцов в цикле и замена пропущенных значений на 'unknown'"
   ]
  },
  {
   "cell_type": "markdown",
   "metadata": {
    "id": "Ilsm-MZo_Zct"
   },
   "source": [
    "Убедитесь, что в таблице не осталось пропусков. Для этого ещё раз посчитайте пропущенные значения."
   ]
  },
  {
   "cell_type": "code",
   "execution_count": 11,
   "metadata": {
    "id": "Tq4nYRX4_Zct"
   },
   "outputs": [
    {
     "name": "stdout",
     "output_type": "stream",
     "text": [
      "user_id    0\n",
      "track      0\n",
      "artist     0\n",
      "genre      0\n",
      "city       0\n",
      "time       0\n",
      "day        0\n",
      "dtype: int64\n"
     ]
    }
   ],
   "source": [
    "print(df.isna().sum())# подсчёт пропусков"
   ]
  },
  {
   "cell_type": "markdown",
   "metadata": {
    "id": "BWKRtBJ3_Zct"
   },
   "source": [
    "### Дубликаты\n",
    "Посчитайте явные дубликаты в таблице одной командой:"
   ]
  },
  {
   "cell_type": "code",
   "execution_count": 12,
   "metadata": {
    "id": "36eES_S0_Zct"
   },
   "outputs": [
    {
     "name": "stdout",
     "output_type": "stream",
     "text": [
      "3826\n"
     ]
    }
   ],
   "source": [
    "print(df.duplicated().sum())# подсчёт явных дубликатов"
   ]
  },
  {
   "cell_type": "markdown",
   "metadata": {
    "id": "Ot25h6XR_Zct"
   },
   "source": [
    "Вызовите специальный метод `pandas`, чтобы удалить явные дубликаты:"
   ]
  },
  {
   "cell_type": "code",
   "execution_count": 13,
   "metadata": {
    "id": "exFHq6tt_Zct"
   },
   "outputs": [],
   "source": [
    "df = df.drop_duplicates().reset_index(drop=True)# удаление явных дубликатов (с удалением старых индексов и формированием новых)"
   ]
  },
  {
   "cell_type": "markdown",
   "metadata": {
    "id": "Im2YwBEG_Zct"
   },
   "source": [
    "Ещё раз посчитайте явные дубликаты в таблице — убедитесь, что полностью от них избавились:"
   ]
  },
  {
   "cell_type": "code",
   "execution_count": 14,
   "metadata": {
    "id": "-8PuNWQ0_Zct"
   },
   "outputs": [
    {
     "name": "stdout",
     "output_type": "stream",
     "text": [
      "0\n"
     ]
    }
   ],
   "source": [
    "print(df.duplicated().sum())# проверка на отсутствие дубликатов"
   ]
  },
  {
   "cell_type": "markdown",
   "metadata": {
    "id": "QlFBsxAr_Zct"
   },
   "source": [
    "Теперь избавьтесь от неявных дубликатов в колонке `genre`. Например, название одного и того же жанра может быть записано немного по-разному. Такие ошибки тоже повлияют на результат исследования."
   ]
  },
  {
   "cell_type": "markdown",
   "metadata": {
    "id": "eSjWwsOh_Zct"
   },
   "source": [
    "Выведите на экран список уникальных названий жанров, отсортированный в алфавитном порядке. Для этого:\n",
    "* извлеките нужный столбец датафрейма, \n",
    "* примените к нему метод сортировки,\n",
    "* для отсортированного столбца вызовите метод, который вернёт уникальные значения из столбца."
   ]
  },
  {
   "cell_type": "code",
   "execution_count": 15,
   "metadata": {
    "id": "JIUcqzZN_Zct"
   },
   "outputs": [
    {
     "data": {
      "text/plain": [
       "array(['acid', 'acoustic', 'action', 'adult', 'africa', 'afrikaans',\n",
       "       'alternative', 'alternativepunk', 'ambient', 'americana',\n",
       "       'animated', 'anime', 'arabesk', 'arabic', 'arena',\n",
       "       'argentinetango', 'art', 'audiobook', 'author', 'avantgarde',\n",
       "       'axé', 'baile', 'balkan', 'beats', 'bigroom', 'black', 'bluegrass',\n",
       "       'blues', 'bollywood', 'bossa', 'brazilian', 'breakbeat', 'breaks',\n",
       "       'broadway', 'cantautori', 'cantopop', 'canzone', 'caribbean',\n",
       "       'caucasian', 'celtic', 'chamber', 'chanson', 'children', 'chill',\n",
       "       'chinese', 'choral', 'christian', 'christmas', 'classical',\n",
       "       'classicmetal', 'club', 'colombian', 'comedy', 'conjazz',\n",
       "       'contemporary', 'country', 'cuban', 'dance', 'dancehall',\n",
       "       'dancepop', 'dark', 'death', 'deep', 'deutschrock', 'deutschspr',\n",
       "       'dirty', 'disco', 'dnb', 'documentary', 'downbeat', 'downtempo',\n",
       "       'drum', 'dub', 'dubstep', 'eastern', 'easy', 'electronic',\n",
       "       'electropop', 'emo', 'entehno', 'epicmetal', 'estrada', 'ethnic',\n",
       "       'eurofolk', 'european', 'experimental', 'extrememetal', 'fado',\n",
       "       'fairytail', 'film', 'fitness', 'flamenco', 'folk', 'folklore',\n",
       "       'folkmetal', 'folkrock', 'folktronica', 'forró', 'frankreich',\n",
       "       'französisch', 'french', 'funk', 'future', 'gangsta', 'garage',\n",
       "       'german', 'ghazal', 'gitarre', 'glitch', 'gospel', 'gothic',\n",
       "       'grime', 'grunge', 'gypsy', 'handsup', \"hard'n'heavy\", 'hardcore',\n",
       "       'hardstyle', 'hardtechno', 'hip', 'hip-hop', 'hiphop',\n",
       "       'historisch', 'holiday', 'hop', 'horror', 'house', 'hymn', 'idm',\n",
       "       'independent', 'indian', 'indie', 'indipop', 'industrial',\n",
       "       'inspirational', 'instrumental', 'international', 'irish', 'jam',\n",
       "       'japanese', 'jazz', 'jewish', 'jpop', 'jungle', 'k-pop',\n",
       "       'karadeniz', 'karaoke', 'kayokyoku', 'korean', 'laiko', 'latin',\n",
       "       'latino', 'leftfield', 'local', 'lounge', 'loungeelectronic',\n",
       "       'lovers', 'malaysian', 'mandopop', 'marschmusik', 'meditative',\n",
       "       'mediterranean', 'melodic', 'metal', 'metalcore', 'mexican',\n",
       "       'middle', 'minimal', 'miscellaneous', 'modern', 'mood', 'mpb',\n",
       "       'muslim', 'native', 'neoklassik', 'neue', 'new', 'newage',\n",
       "       'newwave', 'nu', 'nujazz', 'numetal', 'oceania', 'old', 'opera',\n",
       "       'orchestral', 'other', 'piano', 'podcasts', 'pop', 'popdance',\n",
       "       'popelectronic', 'popeurodance', 'poprussian', 'post',\n",
       "       'posthardcore', 'postrock', 'power', 'progmetal', 'progressive',\n",
       "       'psychedelic', 'punjabi', 'punk', 'quebecois', 'ragga', 'ram',\n",
       "       'rancheras', 'rap', 'rave', 'reggae', 'reggaeton', 'regional',\n",
       "       'relax', 'religious', 'retro', 'rhythm', 'rnb', 'rnr', 'rock',\n",
       "       'rockabilly', 'rockalternative', 'rockindie', 'rockother',\n",
       "       'romance', 'roots', 'ruspop', 'rusrap', 'rusrock', 'russian',\n",
       "       'salsa', 'samba', 'scenic', 'schlager', 'self', 'sertanejo',\n",
       "       'shanson', 'shoegazing', 'showtunes', 'singer', 'ska', 'skarock',\n",
       "       'slow', 'smooth', 'soft', 'soul', 'soulful', 'sound', 'soundtrack',\n",
       "       'southern', 'specialty', 'speech', 'spiritual', 'sport',\n",
       "       'stonerrock', 'surf', 'swing', 'synthpop', 'synthrock',\n",
       "       'sängerportrait', 'tango', 'tanzorchester', 'taraftar', 'tatar',\n",
       "       'tech', 'techno', 'teen', 'thrash', 'top', 'traditional',\n",
       "       'tradjazz', 'trance', 'tribal', 'trip', 'triphop', 'tropical',\n",
       "       'türk', 'türkçe', 'ukrrock', 'unknown', 'urban', 'uzbek',\n",
       "       'variété', 'vi', 'videogame', 'vocal', 'western', 'world',\n",
       "       'worldbeat', 'ïîï', 'электроника'], dtype=object)"
      ]
     },
     "execution_count": 15,
     "metadata": {},
     "output_type": "execute_result"
    }
   ],
   "source": [
    "sorted_df_genre = df['genre']\n",
    "#sorted_df_genre.head()\n",
    "sorted_df_genre = sorted_df_genre.sort_values()\n",
    "sorted_df_genre.unique()# Просмотр уникальных названий жанров"
   ]
  },
  {
   "cell_type": "markdown",
   "metadata": {},
   "source": [
    "<div class=\"alert alert-success\" style=\"border-radius: 15px; box-shadow: 4px 4px 4px; border: 1px solid \">\n",
    "<b> Комментарий ревьюера</b>\n",
    "    \n",
    "Верно. Можно, кстати, и в одну строчку выводить. Тогда не придется создавать лишние переменные:</div>"
   ]
  },
  {
   "cell_type": "code",
   "execution_count": 16,
   "metadata": {},
   "outputs": [
    {
     "data": {
      "text/plain": [
       "array(['acid', 'acoustic', 'action', 'adult', 'africa', 'afrikaans',\n",
       "       'alternative', 'alternativepunk', 'ambient', 'americana',\n",
       "       'animated', 'anime', 'arabesk', 'arabic', 'arena',\n",
       "       'argentinetango', 'art', 'audiobook', 'author', 'avantgarde',\n",
       "       'axé', 'baile', 'balkan', 'beats', 'bigroom', 'black', 'bluegrass',\n",
       "       'blues', 'bollywood', 'bossa', 'brazilian', 'breakbeat', 'breaks',\n",
       "       'broadway', 'cantautori', 'cantopop', 'canzone', 'caribbean',\n",
       "       'caucasian', 'celtic', 'chamber', 'chanson', 'children', 'chill',\n",
       "       'chinese', 'choral', 'christian', 'christmas', 'classical',\n",
       "       'classicmetal', 'club', 'colombian', 'comedy', 'conjazz',\n",
       "       'contemporary', 'country', 'cuban', 'dance', 'dancehall',\n",
       "       'dancepop', 'dark', 'death', 'deep', 'deutschrock', 'deutschspr',\n",
       "       'dirty', 'disco', 'dnb', 'documentary', 'downbeat', 'downtempo',\n",
       "       'drum', 'dub', 'dubstep', 'eastern', 'easy', 'electronic',\n",
       "       'electropop', 'emo', 'entehno', 'epicmetal', 'estrada', 'ethnic',\n",
       "       'eurofolk', 'european', 'experimental', 'extrememetal', 'fado',\n",
       "       'fairytail', 'film', 'fitness', 'flamenco', 'folk', 'folklore',\n",
       "       'folkmetal', 'folkrock', 'folktronica', 'forró', 'frankreich',\n",
       "       'französisch', 'french', 'funk', 'future', 'gangsta', 'garage',\n",
       "       'german', 'ghazal', 'gitarre', 'glitch', 'gospel', 'gothic',\n",
       "       'grime', 'grunge', 'gypsy', 'handsup', \"hard'n'heavy\", 'hardcore',\n",
       "       'hardstyle', 'hardtechno', 'hip', 'hip-hop', 'hiphop',\n",
       "       'historisch', 'holiday', 'hop', 'horror', 'house', 'hymn', 'idm',\n",
       "       'independent', 'indian', 'indie', 'indipop', 'industrial',\n",
       "       'inspirational', 'instrumental', 'international', 'irish', 'jam',\n",
       "       'japanese', 'jazz', 'jewish', 'jpop', 'jungle', 'k-pop',\n",
       "       'karadeniz', 'karaoke', 'kayokyoku', 'korean', 'laiko', 'latin',\n",
       "       'latino', 'leftfield', 'local', 'lounge', 'loungeelectronic',\n",
       "       'lovers', 'malaysian', 'mandopop', 'marschmusik', 'meditative',\n",
       "       'mediterranean', 'melodic', 'metal', 'metalcore', 'mexican',\n",
       "       'middle', 'minimal', 'miscellaneous', 'modern', 'mood', 'mpb',\n",
       "       'muslim', 'native', 'neoklassik', 'neue', 'new', 'newage',\n",
       "       'newwave', 'nu', 'nujazz', 'numetal', 'oceania', 'old', 'opera',\n",
       "       'orchestral', 'other', 'piano', 'podcasts', 'pop', 'popdance',\n",
       "       'popelectronic', 'popeurodance', 'poprussian', 'post',\n",
       "       'posthardcore', 'postrock', 'power', 'progmetal', 'progressive',\n",
       "       'psychedelic', 'punjabi', 'punk', 'quebecois', 'ragga', 'ram',\n",
       "       'rancheras', 'rap', 'rave', 'reggae', 'reggaeton', 'regional',\n",
       "       'relax', 'religious', 'retro', 'rhythm', 'rnb', 'rnr', 'rock',\n",
       "       'rockabilly', 'rockalternative', 'rockindie', 'rockother',\n",
       "       'romance', 'roots', 'ruspop', 'rusrap', 'rusrock', 'russian',\n",
       "       'salsa', 'samba', 'scenic', 'schlager', 'self', 'sertanejo',\n",
       "       'shanson', 'shoegazing', 'showtunes', 'singer', 'ska', 'skarock',\n",
       "       'slow', 'smooth', 'soft', 'soul', 'soulful', 'sound', 'soundtrack',\n",
       "       'southern', 'specialty', 'speech', 'spiritual', 'sport',\n",
       "       'stonerrock', 'surf', 'swing', 'synthpop', 'synthrock',\n",
       "       'sängerportrait', 'tango', 'tanzorchester', 'taraftar', 'tatar',\n",
       "       'tech', 'techno', 'teen', 'thrash', 'top', 'traditional',\n",
       "       'tradjazz', 'trance', 'tribal', 'trip', 'triphop', 'tropical',\n",
       "       'türk', 'türkçe', 'ukrrock', 'unknown', 'urban', 'uzbek',\n",
       "       'variété', 'vi', 'videogame', 'vocal', 'western', 'world',\n",
       "       'worldbeat', 'ïîï', 'электроника'], dtype=object)"
      ]
     },
     "execution_count": 16,
     "metadata": {},
     "output_type": "execute_result"
    }
   ],
   "source": [
    "# КОД РЕВЬЮЕРА\n",
    "\n",
    "df['genre'].sort_values().unique()"
   ]
  },
  {
   "cell_type": "markdown",
   "metadata": {
    "id": "qej-Qmuo_Zct"
   },
   "source": [
    "Просмотрите список и найдите неявные дубликаты названия `hiphop`. Это могут быть названия с ошибками или альтернативные названия того же жанра.\n",
    "\n",
    "Вы увидите следующие неявные дубликаты:\n",
    "* *hip*,\n",
    "* *hop*,\n",
    "* *hip-hop*.\n",
    "\n",
    "Чтобы очистить от них таблицу, напишите функцию `replace_wrong_genres()` с двумя параметрами: \n",
    "* `wrong_genres` — список дубликатов,\n",
    "* `correct_genre` — строка с правильным значением.\n",
    "\n",
    "Функция должна исправить колонку `genre` в таблице `df`: заменить каждое значение из списка `wrong_genres` на значение из `correct_genre`."
   ]
  },
  {
   "cell_type": "code",
   "execution_count": 17,
   "metadata": {
    "id": "ErNDkmns_Zct"
   },
   "outputs": [],
   "source": [
    "def replace_wrong_genres(wrong_genres, correct_genre):\n",
    "    for wrong_genre in wrong_genres:\n",
    "        df['genre'] = df['genre'].replace(wrong_genre, correct_genre)# Функция для замены неявных дубликатов"
   ]
  },
  {
   "cell_type": "markdown",
   "metadata": {
    "id": "aDoBJxbA_Zct"
   },
   "source": [
    "Вызовите `replace_wrong_genres()` и передайте ей такие аргументы, чтобы она устранила неявные дубликаты: вместо `hip`, `hop` и `hip-hop` в таблице должно быть значение `hiphop`:"
   ]
  },
  {
   "cell_type": "code",
   "execution_count": 18,
   "metadata": {
    "id": "YN5i2hpmSo09"
   },
   "outputs": [],
   "source": [
    "wrong_genres = ['hip', 'hop', 'hip-hop']\n",
    "correct_genre = 'hiphop'\n",
    "replace_wrong_genres(wrong_genres,correct_genre)# Устранение неявных дубликатов"
   ]
  },
  {
   "cell_type": "markdown",
   "metadata": {},
   "source": [
    "<div class=\"alert alert-success\" style=\"border-radius: 15px; box-shadow: 4px 4px 4px; border: 1px solid \">\n",
    "<b> Комментарий ревьюера</b>\n",
    "    \n",
    "Супер. Написали и вызвали функцию, которая верно отработала. \n",
    "\n",
    "Вообще, эти манипуяции можно произвести и без функции. Для этого нам понадобится список и все тот же метод **replace**.   Выглядеть это будет так:\n",
    "    \n",
    "    \n",
    "    wrong_genres = ['hip', 'hop', 'hip-hop']\n",
    "    correct_genre = 'hiphop'  \n",
    "\n",
    "    df['genre'] = df['genre'].replace(wrong_genres, correct_genre)\n",
    "    \n",
    "    \n",
    "Или, что то же самое:\n",
    "    \n",
    "    \n",
    "    df['genre'] = df['genre'].replace(['hip', 'hop', 'hip-hop'], 'hiphop')\n",
    "</div>"
   ]
  },
  {
   "cell_type": "markdown",
   "metadata": {
    "id": "zQKF16_RG15m"
   },
   "source": [
    "Проверьте, что заменили неправильные названия:\n",
    "\n",
    "*   hip\n",
    "*   hop\n",
    "*   hip-hop\n",
    "\n",
    "Выведите отсортированный список уникальных значений столбца `genre`:"
   ]
  },
  {
   "cell_type": "code",
   "execution_count": 19,
   "metadata": {
    "id": "wvixALnFG15m"
   },
   "outputs": [
    {
     "data": {
      "text/plain": [
       "array(['acid', 'acoustic', 'action', 'adult', 'africa', 'afrikaans',\n",
       "       'alternative', 'alternativepunk', 'ambient', 'americana',\n",
       "       'animated', 'anime', 'arabesk', 'arabic', 'arena',\n",
       "       'argentinetango', 'art', 'audiobook', 'author', 'avantgarde',\n",
       "       'axé', 'baile', 'balkan', 'beats', 'bigroom', 'black', 'bluegrass',\n",
       "       'blues', 'bollywood', 'bossa', 'brazilian', 'breakbeat', 'breaks',\n",
       "       'broadway', 'cantautori', 'cantopop', 'canzone', 'caribbean',\n",
       "       'caucasian', 'celtic', 'chamber', 'chanson', 'children', 'chill',\n",
       "       'chinese', 'choral', 'christian', 'christmas', 'classical',\n",
       "       'classicmetal', 'club', 'colombian', 'comedy', 'conjazz',\n",
       "       'contemporary', 'country', 'cuban', 'dance', 'dancehall',\n",
       "       'dancepop', 'dark', 'death', 'deep', 'deutschrock', 'deutschspr',\n",
       "       'dirty', 'disco', 'dnb', 'documentary', 'downbeat', 'downtempo',\n",
       "       'drum', 'dub', 'dubstep', 'eastern', 'easy', 'electronic',\n",
       "       'electropop', 'emo', 'entehno', 'epicmetal', 'estrada', 'ethnic',\n",
       "       'eurofolk', 'european', 'experimental', 'extrememetal', 'fado',\n",
       "       'fairytail', 'film', 'fitness', 'flamenco', 'folk', 'folklore',\n",
       "       'folkmetal', 'folkrock', 'folktronica', 'forró', 'frankreich',\n",
       "       'französisch', 'french', 'funk', 'future', 'gangsta', 'garage',\n",
       "       'german', 'ghazal', 'gitarre', 'glitch', 'gospel', 'gothic',\n",
       "       'grime', 'grunge', 'gypsy', 'handsup', \"hard'n'heavy\", 'hardcore',\n",
       "       'hardstyle', 'hardtechno', 'hiphop', 'historisch', 'holiday',\n",
       "       'horror', 'house', 'hymn', 'idm', 'independent', 'indian', 'indie',\n",
       "       'indipop', 'industrial', 'inspirational', 'instrumental',\n",
       "       'international', 'irish', 'jam', 'japanese', 'jazz', 'jewish',\n",
       "       'jpop', 'jungle', 'k-pop', 'karadeniz', 'karaoke', 'kayokyoku',\n",
       "       'korean', 'laiko', 'latin', 'latino', 'leftfield', 'local',\n",
       "       'lounge', 'loungeelectronic', 'lovers', 'malaysian', 'mandopop',\n",
       "       'marschmusik', 'meditative', 'mediterranean', 'melodic', 'metal',\n",
       "       'metalcore', 'mexican', 'middle', 'minimal', 'miscellaneous',\n",
       "       'modern', 'mood', 'mpb', 'muslim', 'native', 'neoklassik', 'neue',\n",
       "       'new', 'newage', 'newwave', 'nu', 'nujazz', 'numetal', 'oceania',\n",
       "       'old', 'opera', 'orchestral', 'other', 'piano', 'podcasts', 'pop',\n",
       "       'popdance', 'popelectronic', 'popeurodance', 'poprussian', 'post',\n",
       "       'posthardcore', 'postrock', 'power', 'progmetal', 'progressive',\n",
       "       'psychedelic', 'punjabi', 'punk', 'quebecois', 'ragga', 'ram',\n",
       "       'rancheras', 'rap', 'rave', 'reggae', 'reggaeton', 'regional',\n",
       "       'relax', 'religious', 'retro', 'rhythm', 'rnb', 'rnr', 'rock',\n",
       "       'rockabilly', 'rockalternative', 'rockindie', 'rockother',\n",
       "       'romance', 'roots', 'ruspop', 'rusrap', 'rusrock', 'russian',\n",
       "       'salsa', 'samba', 'scenic', 'schlager', 'self', 'sertanejo',\n",
       "       'shanson', 'shoegazing', 'showtunes', 'singer', 'ska', 'skarock',\n",
       "       'slow', 'smooth', 'soft', 'soul', 'soulful', 'sound', 'soundtrack',\n",
       "       'southern', 'specialty', 'speech', 'spiritual', 'sport',\n",
       "       'stonerrock', 'surf', 'swing', 'synthpop', 'synthrock',\n",
       "       'sängerportrait', 'tango', 'tanzorchester', 'taraftar', 'tatar',\n",
       "       'tech', 'techno', 'teen', 'thrash', 'top', 'traditional',\n",
       "       'tradjazz', 'trance', 'tribal', 'trip', 'triphop', 'tropical',\n",
       "       'türk', 'türkçe', 'ukrrock', 'unknown', 'urban', 'uzbek',\n",
       "       'variété', 'vi', 'videogame', 'vocal', 'western', 'world',\n",
       "       'worldbeat', 'ïîï', 'электроника'], dtype=object)"
      ]
     },
     "execution_count": 19,
     "metadata": {},
     "output_type": "execute_result"
    }
   ],
   "source": [
    "df_sorted = df.sort_values(by='genre')\n",
    "df_sorted['genre'].unique()# Проверка на неявные дубликаты"
   ]
  },
  {
   "cell_type": "markdown",
   "metadata": {},
   "source": [
    "<div class=\"alert alert-success\" style=\"border-radius: 15px; box-shadow: 4px 4px 4px; border: 1px solid \">\n",
    "<b> Комментарий ревьюера</b>\n",
    "    \n",
    "Теперь мы убедились в том, что замена прошла успешно. Отлично.\n",
    "</div>"
   ]
  },
  {
   "cell_type": "markdown",
   "metadata": {
    "id": "jz6a9-7HQUDd"
   },
   "source": [
    "**Выводы**\n",
    "\n",
    "Предобработка обнаружила три проблемы в данных:\n",
    "\n",
    "- нарушения в стиле заголовков,\n",
    "- пропущенные значения,\n",
    "- дубликаты — явные и неявные.\n",
    "\n",
    "Вы исправили заголовки, чтобы упростить работу с таблицей. Без дубликатов исследование станет более точным.\n",
    "\n",
    "Пропущенные значения вы заменили на `'unknown'`. Ещё предстоит увидеть, не повредят ли исследованию пропуски в колонке `genre`.\n",
    "\n",
    "Теперь можно перейти к проверке гипотез. "
   ]
  },
  {
   "cell_type": "markdown",
   "metadata": {
    "id": "WttZHXH0SqKk"
   },
   "source": [
    "## Проверка гипотез"
   ]
  },
  {
   "cell_type": "markdown",
   "metadata": {
    "id": "Im936VVi_Zcu"
   },
   "source": [
    "### Сравнение поведения пользователей двух столиц"
   ]
  },
  {
   "cell_type": "markdown",
   "metadata": {
    "id": "nwt_MuaL_Zcu"
   },
   "source": [
    "Первая гипотеза утверждает, что пользователи по-разному слушают музыку в Москве и Санкт-Петербурге. Проверьте это предположение по данным о трёх днях недели — понедельнике, среде и пятнице. Для этого:\n",
    "\n",
    "* Разделите пользователей Москвы и Санкт-Петербурга\n",
    "* Сравните, сколько треков послушала каждая группа пользователей в понедельник, среду и пятницу.\n"
   ]
  },
  {
   "cell_type": "markdown",
   "metadata": {
    "id": "8Dw_YMmT_Zcu"
   },
   "source": [
    "Для тренировки сначала выполните каждый из расчётов по отдельности. \n",
    "\n",
    "Оцените активность пользователей в каждом городе. Сгруппируйте данные по городу и посчитайте прослушивания в каждой группе.\n",
    "\n"
   ]
  },
  {
   "cell_type": "code",
   "execution_count": 20,
   "metadata": {
    "id": "0_Qs96oh_Zcu"
   },
   "outputs": [
    {
     "data": {
      "text/plain": [
       "city\n",
       "Moscow              42741\n",
       "Saint-Petersburg    18512\n",
       "Name: time, dtype: int64"
      ]
     },
     "metadata": {},
     "output_type": "display_data"
    }
   ],
   "source": [
    "df_time_count = df.groupby('city')['time'].count()\n",
    "display(df_time_count.head())# Подсчёт прослушиваний в каждом городе"
   ]
  },
  {
   "cell_type": "markdown",
   "metadata": {
    "id": "dzli3w8o_Zcu"
   },
   "source": [
    "В Москве прослушиваний больше, чем в Петербурге. Из этого не следует, что московские пользователи чаще слушают музыку. Просто самих пользователей в Москве больше.\n",
    "\n",
    "Теперь сгруппируйте данные по дню недели и подсчитайте прослушивания в понедельник, среду и пятницу. Учтите, что в данных есть информация только о прослушиваниях только за эти дни.\n"
   ]
  },
  {
   "cell_type": "code",
   "execution_count": 21,
   "metadata": {
    "id": "uZMKjiJz_Zcu"
   },
   "outputs": [
    {
     "data": {
      "text/plain": [
       "day\n",
       "Friday       21840\n",
       "Monday       21354\n",
       "Wednesday    18059\n",
       "Name: time, dtype: int64"
      ]
     },
     "metadata": {},
     "output_type": "display_data"
    }
   ],
   "source": [
    "df_day_count = df.groupby('day')['time'].count()# Подсчёт прослушиваний в каждый из трёх дней\n",
    "display(df_day_count.head())"
   ]
  },
  {
   "cell_type": "markdown",
   "metadata": {},
   "source": [
    "<div class=\"alert alert-success\" style=\"border-radius: 15px; box-shadow: 4px 4px 4px; border: 1px solid \">\n",
    "<b> Комментарий ревьюера</b>\n",
    "    \n",
    "Кстати, если тебе не нравится вывод через Series, то можно вывод сделать через DataFrame, добавив еще одни скобки:\n",
    "</div>"
   ]
  },
  {
   "cell_type": "code",
   "execution_count": 22,
   "metadata": {},
   "outputs": [
    {
     "data": {
      "text/html": [
       "<div>\n",
       "<style scoped>\n",
       "    .dataframe tbody tr th:only-of-type {\n",
       "        vertical-align: middle;\n",
       "    }\n",
       "\n",
       "    .dataframe tbody tr th {\n",
       "        vertical-align: top;\n",
       "    }\n",
       "\n",
       "    .dataframe thead th {\n",
       "        text-align: right;\n",
       "    }\n",
       "</style>\n",
       "<table border=\"1\" class=\"dataframe\">\n",
       "  <thead>\n",
       "    <tr style=\"text-align: right;\">\n",
       "      <th></th>\n",
       "      <th>time</th>\n",
       "    </tr>\n",
       "    <tr>\n",
       "      <th>day</th>\n",
       "      <th></th>\n",
       "    </tr>\n",
       "  </thead>\n",
       "  <tbody>\n",
       "    <tr>\n",
       "      <td>Friday</td>\n",
       "      <td>21840</td>\n",
       "    </tr>\n",
       "    <tr>\n",
       "      <td>Monday</td>\n",
       "      <td>21354</td>\n",
       "    </tr>\n",
       "    <tr>\n",
       "      <td>Wednesday</td>\n",
       "      <td>18059</td>\n",
       "    </tr>\n",
       "  </tbody>\n",
       "</table>\n",
       "</div>"
      ],
      "text/plain": [
       "            time\n",
       "day             \n",
       "Friday     21840\n",
       "Monday     21354\n",
       "Wednesday  18059"
      ]
     },
     "execution_count": 22,
     "metadata": {},
     "output_type": "execute_result"
    }
   ],
   "source": [
    "# КОД РЕВЬЮЕРА\n",
    "\n",
    "df.groupby('day')[['time']].count()"
   ]
  },
  {
   "cell_type": "markdown",
   "metadata": {
    "id": "cC2tNrlL_Zcu"
   },
   "source": [
    "В среднем пользователи из двух городов менее активны по средам. Но картина может измениться, если рассмотреть каждый город в отдельности."
   ]
  },
  {
   "cell_type": "markdown",
   "metadata": {
    "id": "POzs8bGa_Zcu"
   },
   "source": [
    "Вы видели, как работает группировка по городу и по дням недели. Теперь напишите функцию, которая объединит два эти расчёта.\n",
    "\n",
    "Создайте функцию `number_tracks()`, которая посчитает прослушивания для заданного дня и города. Ей понадобятся два параметра:\n",
    "* день недели,\n",
    "* название города.\n",
    "\n",
    "В функции сохраните в переменную строки исходной таблицы, у которых значение:\n",
    "  * в колонке `day` равно параметру `day`,\n",
    "  * в колонке `city` равно параметру `city`.\n",
    "\n",
    "Для этого примените последовательную фильтрацию с логической индексацией.\n",
    "\n",
    "Затем посчитайте значения в столбце `user_id` получившейся таблицы. Результат сохраните в новую переменную. Верните эту переменную из функции."
   ]
  },
  {
   "cell_type": "code",
   "execution_count": 23,
   "metadata": {
    "id": "Nz3GdQB1_Zcu"
   },
   "outputs": [],
   "source": [
    "def number_tracks(day,city):\n",
    "    '''Функция для подсчёта прослушиваний для конкретного города и дня.\n",
    "    С помощью последовательной фильтрации с логической индексацией она \n",
    "    сначала получит из исходной таблицы строки с нужным днём,\n",
    "    затем из результата отфильтрует строки с нужным городом,\n",
    "    методом count() посчитает количество значений в колонке user_id. \n",
    "    Это количество функция вернёт в качестве результата''' \n",
    "    track_list = df.loc[df.loc[:,'day'] == day]\n",
    "    track_list = track_list.loc[track_list.loc[:,'city'] == city]\n",
    "    track_list_count = track_list['user_id'].count()\n",
    "    return track_list_count\n",
    "# <создание функции number_tracks()>\n",
    "# Объявляется функция с двумя параметрами: day, city.\n",
    "# В переменной track_list сохраняются те строки таблицы df, для которых \n",
    "# значение в столбце 'day' равно параметру day и одновременно значение\n",
    "# в столбце 'city' равно параметру city (используйте последовательную фильтрацию\n",
    "# с помощью логической индексации).\n",
    "# В переменной track_list_count сохраняется число значений столбца 'user_id',\n",
    "# рассчитанное методом count() для таблицы track_list.\n",
    "# Функция возвращает число - значение track_list_count.\n"
   ]
  },
  {
   "cell_type": "markdown",
   "metadata": {},
   "source": [
    "<div class=\"alert alert-success\" style=\"border-radius: 15px; box-shadow: 4px 4px 4px; border: 1px solid \">\n",
    "<b> Комментарий ревьюера</b>\n",
    "    \n",
    "Молодец, строки документации это очень хороший тон. Решетка в них уже не нужна.\n",
    "    \n",
    "На всякий случай напомню, что их можно выводить:\n",
    "</div>"
   ]
  },
  {
   "cell_type": "code",
   "execution_count": 24,
   "metadata": {},
   "outputs": [
    {
     "data": {
      "text/plain": [
       "'Функция для подсчёта прослушиваний для конкретного города и дня.\\n    С помощью последовательной фильтрации с логической индексацией она \\n    сначала получит из исходной таблицы строки с нужным днём,\\n    затем из результата отфильтрует строки с нужным городом,\\n    методом count() посчитает количество значений в колонке user_id. \\n    Это количество функция вернёт в качестве результата'"
      ]
     },
     "execution_count": 24,
     "metadata": {},
     "output_type": "execute_result"
    }
   ],
   "source": [
    "# КОД РЕВЬЮЕРА\n",
    "\n",
    "number_tracks.__doc__"
   ]
  },
  {
   "cell_type": "markdown",
   "metadata": {
    "id": "ytf7xFrFJQ2r"
   },
   "source": [
    "Вызовите `number_tracks()` шесть раз, меняя значение параметров — так, чтобы получить данные для каждого города в каждый из трёх дней."
   ]
  },
  {
   "cell_type": "code",
   "execution_count": 25,
   "metadata": {
    "id": "rJcRATNQ_Zcu"
   },
   "outputs": [
    {
     "data": {
      "text/plain": [
       "15740"
      ]
     },
     "execution_count": 25,
     "metadata": {},
     "output_type": "execute_result"
    }
   ],
   "source": [
    "number_tracks('Monday','Moscow')# количество прослушиваний в Москве по понедельникамa"
   ]
  },
  {
   "cell_type": "code",
   "execution_count": 26,
   "metadata": {
    "id": "hq_ncZ5T_Zcu"
   },
   "outputs": [
    {
     "data": {
      "text/plain": [
       "5614"
      ]
     },
     "execution_count": 26,
     "metadata": {},
     "output_type": "execute_result"
    }
   ],
   "source": [
    "number_tracks('Monday','Saint-Petersburg')# количество прослушиваний в Санкт-Петербурге по понедельникам"
   ]
  },
  {
   "cell_type": "code",
   "execution_count": 27,
   "metadata": {
    "id": "_NTy2VPU_Zcu"
   },
   "outputs": [
    {
     "data": {
      "text/plain": [
       "11056"
      ]
     },
     "execution_count": 27,
     "metadata": {},
     "output_type": "execute_result"
    }
   ],
   "source": [
    "number_tracks('Wednesday','Moscow')# количество прослушиваний в Москве по средам"
   ]
  },
  {
   "cell_type": "code",
   "execution_count": 28,
   "metadata": {
    "id": "j2y3TAwo_Zcu"
   },
   "outputs": [
    {
     "data": {
      "text/plain": [
       "7003"
      ]
     },
     "execution_count": 28,
     "metadata": {},
     "output_type": "execute_result"
    }
   ],
   "source": [
    "number_tracks('Wednesday','Saint-Petersburg')# количество прослушиваний в Санкт-Петербурге по средам"
   ]
  },
  {
   "cell_type": "code",
   "execution_count": 29,
   "metadata": {
    "id": "vYDw5u_K_Zcu"
   },
   "outputs": [
    {
     "data": {
      "text/plain": [
       "15945"
      ]
     },
     "execution_count": 29,
     "metadata": {},
     "output_type": "execute_result"
    }
   ],
   "source": [
    "number_tracks('Friday','Moscow')# количество прослушиваний в Москве по пятницам"
   ]
  },
  {
   "cell_type": "code",
   "execution_count": 30,
   "metadata": {
    "id": "8_yzFtW3_Zcu"
   },
   "outputs": [
    {
     "data": {
      "text/plain": [
       "5895"
      ]
     },
     "execution_count": 30,
     "metadata": {},
     "output_type": "execute_result"
    }
   ],
   "source": [
    "number_tracks('Friday','Saint-Petersburg')# количество прослушиваний в Санкт-Петербурге по пятницам"
   ]
  },
  {
   "cell_type": "code",
   "execution_count": 53,
   "metadata": {},
   "outputs": [
    {
     "name": "stdout",
     "output_type": "stream",
     "text": [
      "[['Moscow', 15740, 11056, 15945], ['Saint-Petersburg', 5614, 7003, 5895]]\n"
     ]
    }
   ],
   "source": [
    "\n",
    "cites = ['Moscow', 'Saint-Petersburg']\n",
    "days = ['Monday', 'Wednesday', 'Friday']\n",
    "result = []\n",
    "for city in cites:\n",
    "    result.append(city)\n",
    "    for day in days:\n",
    "        result.append(number_tracks(day,city))\n",
    "result =[result[i:i+4] for i in range(0, len(result), 4)]\n",
    "\n",
    "\n",
    "        "
   ]
  },
  {
   "cell_type": "markdown",
   "metadata": {
    "id": "7QXffbO-_Zcu"
   },
   "source": [
    "Создайте c помощью конструктора `pd.DataFrame` таблицу, где\n",
    "* названия колонок — `['city', 'monday', 'wednesday', 'friday']`;\n",
    "* данные — результаты, которые вы получили с помощью `number_tracks`."
   ]
  },
  {
   "cell_type": "code",
   "execution_count": 55,
   "metadata": {
    "id": "APAcLpOr_Zcu"
   },
   "outputs": [
    {
     "data": {
      "text/html": [
       "<div>\n",
       "<style scoped>\n",
       "    .dataframe tbody tr th:only-of-type {\n",
       "        vertical-align: middle;\n",
       "    }\n",
       "\n",
       "    .dataframe tbody tr th {\n",
       "        vertical-align: top;\n",
       "    }\n",
       "\n",
       "    .dataframe thead th {\n",
       "        text-align: right;\n",
       "    }\n",
       "</style>\n",
       "<table border=\"1\" class=\"dataframe\">\n",
       "  <thead>\n",
       "    <tr style=\"text-align: right;\">\n",
       "      <th></th>\n",
       "      <th>city</th>\n",
       "      <th>monday</th>\n",
       "      <th>wednesday</th>\n",
       "      <th>friday</th>\n",
       "    </tr>\n",
       "  </thead>\n",
       "  <tbody>\n",
       "    <tr>\n",
       "      <td>0</td>\n",
       "      <td>Moscow</td>\n",
       "      <td>15740</td>\n",
       "      <td>11056</td>\n",
       "      <td>15945</td>\n",
       "    </tr>\n",
       "    <tr>\n",
       "      <td>1</td>\n",
       "      <td>Saint-Petersburg</td>\n",
       "      <td>5614</td>\n",
       "      <td>7003</td>\n",
       "      <td>5895</td>\n",
       "    </tr>\n",
       "  </tbody>\n",
       "</table>\n",
       "</div>"
      ],
      "text/plain": [
       "               city  monday  wednesday  friday\n",
       "0            Moscow   15740      11056   15945\n",
       "1  Saint-Petersburg    5614       7003    5895"
      ]
     },
     "execution_count": 55,
     "metadata": {},
     "output_type": "execute_result"
    }
   ],
   "source": [
    "columns = ['city', 'monday', 'wednesday', 'friday']\n",
    "#result = [['Moscow', 15740, 11056, 15945],\n",
    "#       ['Saint-Petersburg', 5614, 7003, 5895,]]\n",
    "pd.DataFrame(data=result,columns=columns)# Таблица с результатами"
   ]
  },
  {
   "cell_type": "markdown",
   "metadata": {},
   "source": [
    "<div class=\"alert alert-success\" style=\"border-radius: 15px; box-shadow: 4px 4px 4px; border: 1px solid \">\n",
    "<b> Комментарий ревьюера</b>\n",
    "    \n",
    "Все значения верные.\n",
    "</div>"
   ]
  },
  {
   "cell_type": "markdown",
   "metadata": {
    "id": "-EgPIHYu_Zcu"
   },
   "source": [
    "**Выводы**\n",
    "\n",
    "Данные показывают разницу поведения пользователей:\n",
    "\n",
    "- В Москве пик прослушиваний приходится на понедельник и пятницу, а в среду заметен спад.\n",
    "- В Петербурге, наоборот, больше слушают музыку по средам. Активность в понедельник и пятницу здесь почти в равной мере уступает среде.\n",
    "\n",
    "Значит, данные говорят в пользу первой гипотезы."
   ]
  },
  {
   "cell_type": "markdown",
   "metadata": {
    "id": "atZAxtq4_Zcu"
   },
   "source": [
    "### Музыка в начале и в конце недели"
   ]
  },
  {
   "cell_type": "markdown",
   "metadata": {
    "id": "eXrQqXFH_Zcu"
   },
   "source": [
    "Согласно второй гипотезе, утром в понедельник в Москве преобладают одни жанры, а в Петербурге — другие. Так же и вечером пятницы преобладают разные жанры — в зависимости от города."
   ]
  },
  {
   "cell_type": "markdown",
   "metadata": {
    "id": "S8UcW6Hw_Zcu"
   },
   "source": [
    "Сохраните таблицы с данными в две переменные:\n",
    "* по Москве — в `moscow_general`;\n",
    "* по Санкт-Петербургу — в `spb_general`."
   ]
  },
  {
   "cell_type": "code",
   "execution_count": 33,
   "metadata": {
    "id": "qeaFfM_P_Zcu"
   },
   "outputs": [],
   "source": [
    "moscow_general = df.loc[df.loc[:,'city'] == 'Moscow']# получение таблицы moscow_general из тех строк таблицы df, \n",
    "#display(moscow_general)# для которых значение в столбце 'city' равно 'Moscow'\n"
   ]
  },
  {
   "cell_type": "code",
   "execution_count": 34,
   "metadata": {
    "id": "ORaVRKto_Zcu"
   },
   "outputs": [],
   "source": [
    "spb_general = df.loc[df.loc[:,'city'] == 'Saint-Petersburg']# получение таблицы spb_general из тех строк таблицы df,\n",
    "#display(spb_general)                                                            # для которых значение в столбце 'city' равно 'Saint-Petersburg'\n"
   ]
  },
  {
   "cell_type": "markdown",
   "metadata": {
    "id": "MEJV-CX2_Zcu"
   },
   "source": [
    "Создайте функцию `genre_weekday()` с четырьмя параметрами:\n",
    "* таблица (датафрейм) с данными,\n",
    "* день недели,\n",
    "* начальная временная метка в формате 'hh:mm', \n",
    "* последняя временная метка в формате 'hh:mm'.\n",
    "\n",
    "Функция должна вернуть информацию о топ-10 жанров тех треков, которые прослушивали в указанный день, в промежутке между двумя отметками времени."
   ]
  },
  {
   "cell_type": "code",
   "execution_count": 35,
   "metadata": {
    "id": "laJT9BYl_Zcu"
   },
   "outputs": [],
   "source": [
    "def genre_weekday(table,day,time1,time2):# Объявление функции genre_weekday() с параметрами table, day, time1, time2,\n",
    "    '''Объявление функции genre_weekday() с параметрами table, day, time1, time2,\n",
    "    которая возвращает информацию о самых популярных жанрах в указанный день заданное время:'''\n",
    "    genre_df = table.loc[table.loc[:,'day'] == day]\n",
    "    genre_df = genre_df.loc[genre_df.loc[:,'time'] > time1]\n",
    "    genre_df = genre_df.loc[genre_df.loc[:,'time'] < time2]\n",
    "    genre_df_count = genre_df.groupby('genre')['genre'].count()\n",
    "    genre_df_sorted = genre_df_count.sort_values(ascending = False)\n",
    "    return genre_df_sorted.head(10)\n",
    "# 1) в переменную genre_df сохраняются те строки переданного датафрейма table, для\n",
    "#    которых одновременно:\n",
    "#    - значение в столбце day равно значению аргумента day\n",
    "#    - значение в столбце time больше значения аргумента time1\n",
    "#    - значение в столбце time меньше значения аргумента time2\n",
    "#    Используйте последовательную фильтрацию с помощью логической индексации.\n",
    "# 2) сгруппировать датафрейм genre_df по столбцу genre, взять один из его\n",
    "#    столбцов и посчитать методом count() количество записей для каждого из\n",
    "#    присутствующих жанров, получившийся Series записать в переменную\n",
    "#    genre_df_count\n",
    "# 3) отсортировать genre_df_count по убыванию встречаемости и сохранить\n",
    "#    в переменную genre_df_sorted\n",
    "# 4) вернуть Series из 10 первых значений genre_df_sorted, это будут топ-10\n",
    "#    популярных жанров (в указанный день, в заданное время)"
   ]
  },
  {
   "cell_type": "markdown",
   "metadata": {
    "id": "la2s2_PF_Zcu"
   },
   "source": [
    "Cравните результаты функции `genre_weekday()` для Москвы и Санкт-Петербурга в понедельник утром (с 7:00 до 11:00) и в пятницу вечером (с 17:00 до 23:00):"
   ]
  },
  {
   "cell_type": "code",
   "execution_count": 36,
   "metadata": {
    "id": "yz7itPUQ_Zcu"
   },
   "outputs": [
    {
     "data": {
      "text/plain": [
       "genre\n",
       "pop            781\n",
       "dance          549\n",
       "electronic     480\n",
       "rock           474\n",
       "hiphop         286\n",
       "ruspop         186\n",
       "world          181\n",
       "rusrap         175\n",
       "alternative    164\n",
       "unknown        161\n",
       "Name: genre, dtype: int64"
      ]
     },
     "execution_count": 36,
     "metadata": {},
     "output_type": "execute_result"
    }
   ],
   "source": [
    "genre_weekday(moscow_general,'Monday', '07:00', '11:00')# вызов функции для утра понедельника в Москве (вместо df — таблица moscow_general)\n",
    "# объекты, хранящие время, являются строками и сравниваются как строки\n",
    "# пример вызова: genre_weekday(moscow_general, 'Monday', '07:00', '11:00')"
   ]
  },
  {
   "cell_type": "code",
   "execution_count": 37,
   "metadata": {
    "id": "kwUcHPdy_Zcu"
   },
   "outputs": [
    {
     "data": {
      "text/plain": [
       "genre\n",
       "pop            218\n",
       "dance          182\n",
       "rock           162\n",
       "electronic     147\n",
       "hiphop          80\n",
       "ruspop          64\n",
       "alternative     58\n",
       "rusrap          55\n",
       "jazz            44\n",
       "classical       40\n",
       "Name: genre, dtype: int64"
      ]
     },
     "execution_count": 37,
     "metadata": {},
     "output_type": "execute_result"
    }
   ],
   "source": [
    "genre_weekday(spb_general,'Monday', '07:00', '11:00')# вызов функции для утра понедельника в Петербурге (вместо df — таблица spb_general)"
   ]
  },
  {
   "cell_type": "code",
   "execution_count": 38,
   "metadata": {
    "id": "EzXVRE1o_Zcu"
   },
   "outputs": [
    {
     "data": {
      "text/plain": [
       "genre\n",
       "pop            713\n",
       "rock           517\n",
       "dance          495\n",
       "electronic     482\n",
       "hiphop         273\n",
       "world          208\n",
       "ruspop         170\n",
       "alternative    163\n",
       "classical      163\n",
       "rusrap         142\n",
       "Name: genre, dtype: int64"
      ]
     },
     "execution_count": 38,
     "metadata": {},
     "output_type": "execute_result"
    }
   ],
   "source": [
    "genre_weekday(moscow_general,'Friday', '17:00', '23:00')# вызов функции для вечера пятницы в Москве"
   ]
  },
  {
   "cell_type": "code",
   "execution_count": 39,
   "metadata": {
    "id": "JZaEKu5v_Zcu"
   },
   "outputs": [
    {
     "data": {
      "text/plain": [
       "genre\n",
       "pop            256\n",
       "rock           216\n",
       "electronic     216\n",
       "dance          210\n",
       "hiphop          97\n",
       "alternative     63\n",
       "jazz            61\n",
       "classical       60\n",
       "rusrap          59\n",
       "world           54\n",
       "Name: genre, dtype: int64"
      ]
     },
     "execution_count": 39,
     "metadata": {},
     "output_type": "execute_result"
    }
   ],
   "source": [
    "genre_weekday(spb_general,'Friday','17:00','23:00')# вызов функции для вечера пятницы в Петербурге"
   ]
  },
  {
   "cell_type": "markdown",
   "metadata": {
    "id": "wrCe4MNX_Zcu"
   },
   "source": [
    "**Выводы**\n",
    "\n",
    "Если сравнить топ-10 жанров в понедельник утром, можно сделать такие выводы:\n",
    "\n",
    "1. В Москве и Петербурге слушают похожую музыку. Единственное отличие — в московский рейтинг вошёл жанр “world”, а в петербургский — джаз и классика.\n",
    "\n",
    "2. В Москве пропущенных значений оказалось так много, что значение `'unknown'` заняло десятое место среди самых популярных жанров. Значит, пропущенные значения занимают существенную долю в данных и угрожают достоверности исследования.\n",
    "\n",
    "Вечер пятницы не меняет эту картину. Некоторые жанры поднимаются немного выше, другие спускаются, но в целом топ-10 остаётся тем же самым.\n",
    "\n",
    "Таким образом, вторая гипотеза подтвердилась лишь частично:\n",
    "* Пользователи слушают похожую музыку в начале недели и в конце.\n",
    "* Разница между Москвой и Петербургом не слишком выражена. В Москве чаще слушают русскую популярную музыку, в Петербурге — джаз.\n",
    "\n",
    "Однако пропуски в данных ставят под сомнение этот результат. В Москве их так много, что рейтинг топ-10 мог бы выглядеть иначе, если бы не утерянные  данные о жанрах."
   ]
  },
  {
   "cell_type": "markdown",
   "metadata": {
    "id": "JolODAqr_Zcu"
   },
   "source": [
    "### Жанровые предпочтения в Москве и Петербурге\n",
    "\n",
    "Гипотеза: Петербург — столица рэпа, музыку этого жанра там слушают чаще, чем в Москве.  А Москва — город контрастов, в котором, тем не менее, преобладает поп-музыка."
   ]
  },
  {
   "cell_type": "markdown",
   "metadata": {
    "id": "DlegSvaT_Zcu"
   },
   "source": [
    "Сгруппируйте таблицу `moscow_general` по жанру и посчитайте прослушивания треков каждого жанра методом `count()`. Затем отсортируйте результат в порядке убывания и сохраните его в таблице `moscow_genres`."
   ]
  },
  {
   "cell_type": "code",
   "execution_count": 40,
   "metadata": {
    "id": "r19lIPke_Zcu"
   },
   "outputs": [],
   "source": [
    "moscow_genres = moscow_general.groupby('genre')['genre'].count()#moscow_general = moscow_general.groupby('genre')# одной строкой: группировка таблицы moscow_general по столбцу 'genre', # подсчёт числа значений 'genre' в этой группировке методом count(),\n",
    "moscow_genres = moscow_genres.sort_values(ascending = False)# сортировка получившегося Series в порядке убывания и сохранение в moscow_genres"
   ]
  },
  {
   "cell_type": "markdown",
   "metadata": {
    "id": "6kMuomxTiIr8"
   },
   "source": [
    "Выведите на экран первые десять строк `moscow_genres`:"
   ]
  },
  {
   "cell_type": "code",
   "execution_count": 41,
   "metadata": {
    "id": "WhCSooF8_Zcv"
   },
   "outputs": [
    {
     "data": {
      "text/plain": [
       "genre\n",
       "pop            5892\n",
       "dance          4435\n",
       "rock           3965\n",
       "electronic     3786\n",
       "hiphop         2096\n",
       "classical      1616\n",
       "world          1432\n",
       "alternative    1379\n",
       "ruspop         1372\n",
       "rusrap         1161\n",
       "Name: genre, dtype: int64"
      ]
     },
     "metadata": {},
     "output_type": "display_data"
    }
   ],
   "source": [
    "display(moscow_genres.head(10))# просмотр первых 10 строк moscow_genres"
   ]
  },
  {
   "cell_type": "markdown",
   "metadata": {},
   "source": [
    "<div class=\"alert alert-success\" style=\"border-radius: 15px; box-shadow: 4px 4px 4px; border: 1px solid \">\n",
    "<b> Комментарий ревьюера</b>\n",
    "    \n",
    "Можно и это вывести как таблицу с помощью метода **to_frame**:\n",
    "\n",
    "</div>"
   ]
  },
  {
   "cell_type": "code",
   "execution_count": 42,
   "metadata": {},
   "outputs": [
    {
     "data": {
      "text/html": [
       "<div>\n",
       "<style scoped>\n",
       "    .dataframe tbody tr th:only-of-type {\n",
       "        vertical-align: middle;\n",
       "    }\n",
       "\n",
       "    .dataframe tbody tr th {\n",
       "        vertical-align: top;\n",
       "    }\n",
       "\n",
       "    .dataframe thead th {\n",
       "        text-align: right;\n",
       "    }\n",
       "</style>\n",
       "<table border=\"1\" class=\"dataframe\">\n",
       "  <thead>\n",
       "    <tr style=\"text-align: right;\">\n",
       "      <th></th>\n",
       "      <th>genre</th>\n",
       "    </tr>\n",
       "    <tr>\n",
       "      <th>genre</th>\n",
       "      <th></th>\n",
       "    </tr>\n",
       "  </thead>\n",
       "  <tbody>\n",
       "    <tr>\n",
       "      <td>pop</td>\n",
       "      <td>5892</td>\n",
       "    </tr>\n",
       "    <tr>\n",
       "      <td>dance</td>\n",
       "      <td>4435</td>\n",
       "    </tr>\n",
       "    <tr>\n",
       "      <td>rock</td>\n",
       "      <td>3965</td>\n",
       "    </tr>\n",
       "    <tr>\n",
       "      <td>electronic</td>\n",
       "      <td>3786</td>\n",
       "    </tr>\n",
       "    <tr>\n",
       "      <td>hiphop</td>\n",
       "      <td>2096</td>\n",
       "    </tr>\n",
       "    <tr>\n",
       "      <td>classical</td>\n",
       "      <td>1616</td>\n",
       "    </tr>\n",
       "    <tr>\n",
       "      <td>world</td>\n",
       "      <td>1432</td>\n",
       "    </tr>\n",
       "    <tr>\n",
       "      <td>alternative</td>\n",
       "      <td>1379</td>\n",
       "    </tr>\n",
       "    <tr>\n",
       "      <td>ruspop</td>\n",
       "      <td>1372</td>\n",
       "    </tr>\n",
       "    <tr>\n",
       "      <td>rusrap</td>\n",
       "      <td>1161</td>\n",
       "    </tr>\n",
       "  </tbody>\n",
       "</table>\n",
       "</div>"
      ],
      "text/plain": [
       "             genre\n",
       "genre             \n",
       "pop           5892\n",
       "dance         4435\n",
       "rock          3965\n",
       "electronic    3786\n",
       "hiphop        2096\n",
       "classical     1616\n",
       "world         1432\n",
       "alternative   1379\n",
       "ruspop        1372\n",
       "rusrap        1161"
      ]
     },
     "execution_count": 42,
     "metadata": {},
     "output_type": "execute_result"
    }
   ],
   "source": [
    "# КОД РЕВЬЮЕРА\n",
    "\n",
    "moscow_genres.to_frame().head(10)"
   ]
  },
  {
   "cell_type": "markdown",
   "metadata": {
    "id": "cnPG2vnN_Zcv"
   },
   "source": [
    "Теперь повторите то же и для Петербурга.\n",
    "\n",
    "Сгруппируйте таблицу `spb_general` по жанру. Посчитайте прослушивания треков каждого жанра. Результат отсортируйте в порядке убывания и сохраните в таблице `spb_genres`:\n"
   ]
  },
  {
   "cell_type": "code",
   "execution_count": 43,
   "metadata": {
    "id": "gluLIpE7_Zcv"
   },
   "outputs": [],
   "source": [
    "spb_genres = spb_general.groupby('genre')['genre'].count()\n",
    "spb_genres = spb_genres.sort_values(ascending = False)# одной строкой: группировка таблицы spb_general по столбцу 'genre', \n",
    "# подсчёт числа значений 'genre' в этой группировке методом count(), \n",
    "# сортировка получившегося Series в порядке убывания и сохранение в spb_genres"
   ]
  },
  {
   "cell_type": "markdown",
   "metadata": {
    "id": "5Doha_ODgyQ8"
   },
   "source": [
    "Выведите на экран первые десять строк `spb_genres`:"
   ]
  },
  {
   "cell_type": "code",
   "execution_count": 44,
   "metadata": {
    "id": "uaGJHjVU_Zcv",
    "scrolled": true
   },
   "outputs": [
    {
     "data": {
      "text/plain": [
       "genre\n",
       "pop            2431\n",
       "dance          1932\n",
       "rock           1879\n",
       "electronic     1736\n",
       "hiphop          960\n",
       "alternative     649\n",
       "classical       646\n",
       "rusrap          564\n",
       "ruspop          538\n",
       "world           515\n",
       "Name: genre, dtype: int64"
      ]
     },
     "metadata": {},
     "output_type": "display_data"
    }
   ],
   "source": [
    "display(spb_genres.head(10))# просмотр первых 10 строк spb_genres"
   ]
  },
  {
   "cell_type": "markdown",
   "metadata": {
    "id": "RY51YJYu_Zcv"
   },
   "source": [
    "**Выводы**"
   ]
  },
  {
   "cell_type": "markdown",
   "metadata": {
    "id": "nVhnJEm__Zcv"
   },
   "source": [
    "Гипотеза частично подтвердилась:\n",
    "* Поп-музыка — самый популярный жанр в Москве, как и предполагала гипотеза. Более того, в топ-10 жанров встречается близкий жанр — русская популярная музыка.\n",
    "* Вопреки ожиданиям, рэп одинаково популярен в Москве и Петербурге. \n"
   ]
  },
  {
   "cell_type": "markdown",
   "metadata": {
    "id": "ykKQ0N65_Zcv"
   },
   "source": [
    "## Итоги исследования"
   ]
  },
  {
   "cell_type": "markdown",
   "metadata": {
    "id": "tjUwbHb3_Zcv"
   },
   "source": [
    "Вы проверили три гипотезы и установили:\n",
    "\n",
    "1. День недели по-разному влияет на активность пользователей в Москве и Петербурге. \n",
    "\n",
    "Первая гипотеза полностью подтвердилась.\n",
    "\n",
    "2. Музыкальные предпочтения не сильно меняются в течение недели — будь то Москва или Петербург. Небольшие различия заметны в начале недели, по понедельникам:\n",
    "* в Москве слушают музыку жанра “world”,\n",
    "* в Петербурге — джаз и классику.\n",
    "\n",
    "Таким образом, вторая гипотеза подтвердилась лишь отчасти. Этот результат мог оказаться иным, если бы не пропуски в данных.\n",
    "\n",
    "3. Во вкусах пользователей Москвы и Петербурга больше общего чем различий. Вопреки ожиданиям, предпочтения жанров в Петербурге напоминают московские.\n",
    "\n",
    "Третья гипотеза не подтвердилась. Если различия в предпочтениях и существуют, на основной массе пользователей они незаметны.\n",
    "\n",
    "**На практике исследования содержат проверки статистических гипотез.**\n",
    "Из данных одного сервиса не всегда можно сделать вывод о всех жителях города.\n",
    "Проверки статистических гипотез покажут, насколько они достоверны, исходя из имеющихся данных. \n",
    "С методами проверок гипотез вы ещё познакомитесь в следующих темах."
   ]
  },
  {
   "cell_type": "markdown",
   "metadata": {},
   "source": [
    "<div class=\"alert alert-success\" style=\"border-radius: 15px; box-shadow: 4px 4px 4px; border: 1px solid \">\n",
    "<b> Комментарий ревьюера</b>\n",
    "    \n",
    "Общий вывод это очень важно. Зачастую подобные задачи заканчиваются составлением презентаций или отчетов для заказчика. Поэтому все результаты нужно описывать в общем выводе. В идеале надо подкреплять его полученными ранее значениями. Так что рекомендую  во всех следующих проектах не забывать о нем :) \n",
    "\n",
    "</div>"
   ]
  },
  {
   "cell_type": "code",
   "execution_count": null,
   "metadata": {},
   "outputs": [],
   "source": []
  }
 ],
 "metadata": {
  "ExecuteTimeLog": [
   {
    "duration": 564,
    "start_time": "2021-09-23T08:32:17.496Z"
   },
   {
    "duration": 120,
    "start_time": "2021-09-23T08:34:13.826Z"
   },
   {
    "duration": 135,
    "start_time": "2021-09-23T08:34:22.368Z"
   },
   {
    "duration": 16,
    "start_time": "2021-09-23T08:34:39.266Z"
   },
   {
    "duration": 22,
    "start_time": "2021-09-23T08:34:55.343Z"
   },
   {
    "duration": 5,
    "start_time": "2021-09-23T08:36:03.485Z"
   },
   {
    "duration": 21,
    "start_time": "2021-09-23T08:40:32.782Z"
   },
   {
    "duration": 4,
    "start_time": "2021-09-23T08:40:35.849Z"
   },
   {
    "duration": 16,
    "start_time": "2021-09-23T08:40:47.012Z"
   },
   {
    "duration": 4,
    "start_time": "2021-09-23T08:40:49.541Z"
   },
   {
    "duration": 21,
    "start_time": "2021-09-23T08:46:45.495Z"
   },
   {
    "duration": 21,
    "start_time": "2021-09-23T08:46:54.141Z"
   },
   {
    "duration": 21,
    "start_time": "2021-09-23T08:46:59.013Z"
   },
   {
    "duration": 42,
    "start_time": "2021-09-23T08:47:21.416Z"
   },
   {
    "duration": 38,
    "start_time": "2021-09-23T09:22:51.980Z"
   },
   {
    "duration": 16,
    "start_time": "2021-09-23T09:26:38.525Z"
   },
   {
    "duration": 20,
    "start_time": "2021-09-23T09:26:49.473Z"
   },
   {
    "duration": 49,
    "start_time": "2021-09-23T09:27:57.516Z"
   },
   {
    "duration": 59,
    "start_time": "2021-09-23T09:28:25.085Z"
   },
   {
    "duration": 45,
    "start_time": "2021-09-23T09:28:31.186Z"
   },
   {
    "duration": 5,
    "start_time": "2021-09-23T09:33:57.457Z"
   },
   {
    "duration": 263,
    "start_time": "2021-09-23T10:31:03.542Z"
   },
   {
    "duration": 571,
    "start_time": "2021-09-23T10:31:15.299Z"
   },
   {
    "duration": 188,
    "start_time": "2021-09-23T10:31:21.781Z"
   },
   {
    "duration": 2217,
    "start_time": "2021-09-23T10:34:12.095Z"
   },
   {
    "duration": 174,
    "start_time": "2021-09-23T10:37:26.702Z"
   },
   {
    "duration": 165,
    "start_time": "2021-09-23T10:37:32.828Z"
   },
   {
    "duration": 176,
    "start_time": "2021-09-23T10:37:41.492Z"
   },
   {
    "duration": 5,
    "start_time": "2021-09-23T10:37:53.166Z"
   },
   {
    "duration": 2297,
    "start_time": "2021-09-23T10:38:32.221Z"
   },
   {
    "duration": 5,
    "start_time": "2021-09-23T10:38:43.777Z"
   },
   {
    "duration": 33,
    "start_time": "2021-09-23T10:38:59.872Z"
   },
   {
    "duration": 36,
    "start_time": "2021-09-23T10:39:18.866Z"
   },
   {
    "duration": 40,
    "start_time": "2021-09-23T10:49:41.295Z"
   },
   {
    "duration": 39,
    "start_time": "2021-09-23T10:51:56.274Z"
   },
   {
    "duration": 40,
    "start_time": "2021-09-23T10:52:09.933Z"
   },
   {
    "duration": 3,
    "start_time": "2021-09-23T11:36:14.110Z"
   },
   {
    "duration": 67,
    "start_time": "2021-09-23T11:37:52.878Z"
   },
   {
    "duration": 9,
    "start_time": "2021-09-23T11:37:59.680Z"
   },
   {
    "duration": 218,
    "start_time": "2021-09-23T11:40:56.192Z"
   },
   {
    "duration": 39,
    "start_time": "2021-09-23T11:42:45.808Z"
   },
   {
    "duration": 47,
    "start_time": "2021-09-23T11:44:36.599Z"
   },
   {
    "duration": 47,
    "start_time": "2021-09-23T11:47:49.374Z"
   },
   {
    "duration": 313,
    "start_time": "2021-09-23T11:53:01.693Z"
   },
   {
    "duration": 178,
    "start_time": "2021-09-23T11:53:17.693Z"
   },
   {
    "duration": 186,
    "start_time": "2021-09-23T11:54:18.134Z"
   },
   {
    "duration": 181,
    "start_time": "2021-09-23T11:54:24.350Z"
   },
   {
    "duration": 129,
    "start_time": "2021-09-23T11:54:33.725Z"
   },
   {
    "duration": 11,
    "start_time": "2021-09-23T11:54:35.698Z"
   },
   {
    "duration": 25,
    "start_time": "2021-09-23T11:54:38.285Z"
   },
   {
    "duration": 4,
    "start_time": "2021-09-23T11:54:43.171Z"
   },
   {
    "duration": 532,
    "start_time": "2021-09-23T11:55:52.831Z"
   },
   {
    "duration": 126,
    "start_time": "2021-09-23T11:55:53.366Z"
   },
   {
    "duration": 15,
    "start_time": "2021-09-23T11:55:53.494Z"
   },
   {
    "duration": 25,
    "start_time": "2021-09-23T11:55:53.510Z"
   },
   {
    "duration": 14,
    "start_time": "2021-09-23T11:55:53.536Z"
   },
   {
    "duration": 31,
    "start_time": "2021-09-23T11:55:53.551Z"
   },
   {
    "duration": 4,
    "start_time": "2021-09-23T11:55:53.583Z"
   },
   {
    "duration": 40,
    "start_time": "2021-09-23T11:55:53.600Z"
   },
   {
    "duration": 16,
    "start_time": "2021-09-23T11:55:53.642Z"
   },
   {
    "duration": 33,
    "start_time": "2021-09-23T11:55:53.659Z"
   },
   {
    "duration": 65,
    "start_time": "2021-09-23T11:55:53.694Z"
   },
   {
    "duration": 70,
    "start_time": "2021-09-23T11:55:53.760Z"
   },
   {
    "duration": 46,
    "start_time": "2021-09-23T11:55:53.831Z"
   },
   {
    "duration": 46,
    "start_time": "2021-09-23T11:55:53.878Z"
   },
   {
    "duration": 8,
    "start_time": "2021-09-23T11:55:53.925Z"
   },
   {
    "duration": 22,
    "start_time": "2021-09-23T11:55:53.934Z"
   },
   {
    "duration": 54,
    "start_time": "2021-09-23T11:55:53.957Z"
   },
   {
    "duration": 305,
    "start_time": "2021-09-23T11:55:54.012Z"
   },
   {
    "duration": 2,
    "start_time": "2021-09-23T11:55:54.319Z"
   },
   {
    "duration": 17,
    "start_time": "2021-09-23T11:55:54.322Z"
   },
   {
    "duration": 17,
    "start_time": "2021-09-23T11:55:54.340Z"
   },
   {
    "duration": 15,
    "start_time": "2021-09-23T11:55:54.359Z"
   },
   {
    "duration": 13,
    "start_time": "2021-09-23T11:55:54.375Z"
   },
   {
    "duration": 12,
    "start_time": "2021-09-23T11:55:54.389Z"
   },
   {
    "duration": 5,
    "start_time": "2021-09-23T11:55:54.403Z"
   },
   {
    "duration": 9,
    "start_time": "2021-09-23T11:55:54.412Z"
   },
   {
    "duration": 8,
    "start_time": "2021-09-23T11:55:54.422Z"
   },
   {
    "duration": 8,
    "start_time": "2021-09-23T11:55:54.432Z"
   },
   {
    "duration": 12,
    "start_time": "2021-09-23T11:55:54.441Z"
   },
   {
    "duration": 9,
    "start_time": "2021-09-23T11:55:54.455Z"
   },
   {
    "duration": 13,
    "start_time": "2021-09-23T11:55:54.465Z"
   },
   {
    "duration": 15,
    "start_time": "2021-09-23T11:55:54.480Z"
   },
   {
    "duration": 6,
    "start_time": "2021-09-23T11:55:54.496Z"
   },
   {
    "duration": 12,
    "start_time": "2021-09-23T11:55:54.504Z"
   },
   {
    "duration": 14,
    "start_time": "2021-09-23T11:55:54.517Z"
   },
   {
    "duration": 21,
    "start_time": "2021-09-23T11:55:54.532Z"
   },
   {
    "duration": 16,
    "start_time": "2021-09-23T11:55:54.554Z"
   },
   {
    "duration": 14,
    "start_time": "2021-09-23T11:55:54.572Z"
   },
   {
    "duration": 238,
    "start_time": "2021-09-23T11:56:22.032Z"
   },
   {
    "duration": 523,
    "start_time": "2021-09-23T11:56:37.055Z"
   },
   {
    "duration": 127,
    "start_time": "2021-09-23T11:56:37.580Z"
   },
   {
    "duration": 16,
    "start_time": "2021-09-23T11:56:37.708Z"
   },
   {
    "duration": 24,
    "start_time": "2021-09-23T11:56:37.726Z"
   },
   {
    "duration": 4,
    "start_time": "2021-09-23T11:56:37.752Z"
   },
   {
    "duration": 42,
    "start_time": "2021-09-23T11:56:37.757Z"
   },
   {
    "duration": 4,
    "start_time": "2021-09-23T11:56:37.801Z"
   },
   {
    "duration": 42,
    "start_time": "2021-09-23T11:56:37.807Z"
   },
   {
    "duration": 15,
    "start_time": "2021-09-23T11:56:37.851Z"
   },
   {
    "duration": 39,
    "start_time": "2021-09-23T11:56:37.868Z"
   },
   {
    "duration": 52,
    "start_time": "2021-09-23T11:56:37.909Z"
   },
   {
    "duration": 78,
    "start_time": "2021-09-23T11:56:37.963Z"
   },
   {
    "duration": 47,
    "start_time": "2021-09-23T11:56:38.043Z"
   },
   {
    "duration": 38,
    "start_time": "2021-09-23T11:56:38.100Z"
   },
   {
    "duration": 3,
    "start_time": "2021-09-23T11:56:38.139Z"
   },
   {
    "duration": 10,
    "start_time": "2021-09-23T11:56:38.143Z"
   },
   {
    "duration": 65,
    "start_time": "2021-09-23T11:56:38.155Z"
   },
   {
    "duration": 10,
    "start_time": "2021-09-23T11:56:38.222Z"
   },
   {
    "duration": 3,
    "start_time": "2021-09-23T11:56:38.233Z"
   },
   {
    "duration": 4,
    "start_time": "2021-09-23T11:56:38.237Z"
   },
   {
    "duration": 4,
    "start_time": "2021-09-23T11:56:38.243Z"
   },
   {
    "duration": 4,
    "start_time": "2021-09-23T11:56:38.249Z"
   },
   {
    "duration": 4,
    "start_time": "2021-09-23T11:56:38.256Z"
   },
   {
    "duration": 6,
    "start_time": "2021-09-23T11:56:38.262Z"
   },
   {
    "duration": 6,
    "start_time": "2021-09-23T11:56:38.269Z"
   },
   {
    "duration": 24,
    "start_time": "2021-09-23T11:56:38.276Z"
   },
   {
    "duration": 4,
    "start_time": "2021-09-23T11:56:38.302Z"
   },
   {
    "duration": 5,
    "start_time": "2021-09-23T11:56:38.308Z"
   },
   {
    "duration": 5,
    "start_time": "2021-09-23T11:56:38.314Z"
   },
   {
    "duration": 4,
    "start_time": "2021-09-23T11:56:38.320Z"
   },
   {
    "duration": 7,
    "start_time": "2021-09-23T11:56:38.326Z"
   },
   {
    "duration": 5,
    "start_time": "2021-09-23T11:56:38.335Z"
   },
   {
    "duration": 9,
    "start_time": "2021-09-23T11:56:38.342Z"
   },
   {
    "duration": 4,
    "start_time": "2021-09-23T11:56:38.353Z"
   },
   {
    "duration": 10,
    "start_time": "2021-09-23T11:56:38.359Z"
   },
   {
    "duration": 5,
    "start_time": "2021-09-23T11:56:38.370Z"
   },
   {
    "duration": 7,
    "start_time": "2021-09-23T11:56:38.376Z"
   },
   {
    "duration": 15,
    "start_time": "2021-09-23T11:56:38.385Z"
   },
   {
    "duration": 243,
    "start_time": "2021-09-23T11:57:47.967Z"
   },
   {
    "duration": 188,
    "start_time": "2021-09-23T11:58:54.735Z"
   },
   {
    "duration": 536,
    "start_time": "2021-09-23T11:59:02.341Z"
   },
   {
    "duration": 132,
    "start_time": "2021-09-23T11:59:02.879Z"
   },
   {
    "duration": 16,
    "start_time": "2021-09-23T11:59:03.014Z"
   },
   {
    "duration": 39,
    "start_time": "2021-09-23T11:59:03.032Z"
   },
   {
    "duration": 11,
    "start_time": "2021-09-23T11:59:03.073Z"
   },
   {
    "duration": 34,
    "start_time": "2021-09-23T11:59:03.086Z"
   },
   {
    "duration": 28,
    "start_time": "2021-09-23T11:59:03.121Z"
   },
   {
    "duration": 46,
    "start_time": "2021-09-23T11:59:03.152Z"
   },
   {
    "duration": 16,
    "start_time": "2021-09-23T11:59:03.200Z"
   },
   {
    "duration": 31,
    "start_time": "2021-09-23T11:59:03.217Z"
   },
   {
    "duration": 72,
    "start_time": "2021-09-23T11:59:03.249Z"
   },
   {
    "duration": 61,
    "start_time": "2021-09-23T11:59:03.323Z"
   },
   {
    "duration": 55,
    "start_time": "2021-09-23T11:59:03.386Z"
   },
   {
    "duration": 40,
    "start_time": "2021-09-23T11:59:03.442Z"
   },
   {
    "duration": 3,
    "start_time": "2021-09-23T11:59:03.500Z"
   },
   {
    "duration": 24,
    "start_time": "2021-09-23T11:59:03.504Z"
   },
   {
    "duration": 55,
    "start_time": "2021-09-23T11:59:03.529Z"
   },
   {
    "duration": 10,
    "start_time": "2021-09-23T11:59:03.586Z"
   },
   {
    "duration": 11,
    "start_time": "2021-09-23T11:59:03.598Z"
   },
   {
    "duration": 14,
    "start_time": "2021-09-23T11:59:03.611Z"
   },
   {
    "duration": 16,
    "start_time": "2021-09-23T11:59:03.626Z"
   },
   {
    "duration": 22,
    "start_time": "2021-09-23T11:59:03.644Z"
   },
   {
    "duration": 20,
    "start_time": "2021-09-23T11:59:03.669Z"
   },
   {
    "duration": 16,
    "start_time": "2021-09-23T11:59:03.691Z"
   },
   {
    "duration": 16,
    "start_time": "2021-09-23T11:59:03.708Z"
   },
   {
    "duration": 11,
    "start_time": "2021-09-23T11:59:03.725Z"
   },
   {
    "duration": 18,
    "start_time": "2021-09-23T11:59:03.738Z"
   },
   {
    "duration": 28,
    "start_time": "2021-09-23T11:59:03.757Z"
   },
   {
    "duration": 9,
    "start_time": "2021-09-23T11:59:03.787Z"
   },
   {
    "duration": 14,
    "start_time": "2021-09-23T11:59:03.798Z"
   },
   {
    "duration": 16,
    "start_time": "2021-09-23T11:59:03.814Z"
   },
   {
    "duration": 15,
    "start_time": "2021-09-23T11:59:03.832Z"
   },
   {
    "duration": 22,
    "start_time": "2021-09-23T11:59:03.849Z"
   },
   {
    "duration": 20,
    "start_time": "2021-09-23T11:59:03.873Z"
   },
   {
    "duration": 14,
    "start_time": "2021-09-23T11:59:03.894Z"
   },
   {
    "duration": 15,
    "start_time": "2021-09-23T11:59:03.909Z"
   },
   {
    "duration": 7,
    "start_time": "2021-09-23T11:59:03.926Z"
   },
   {
    "duration": 12,
    "start_time": "2021-09-23T11:59:03.935Z"
   },
   {
    "duration": 10,
    "start_time": "2021-09-23T11:59:37.153Z"
   },
   {
    "duration": 10,
    "start_time": "2021-09-23T11:59:51.655Z"
   },
   {
    "duration": 9,
    "start_time": "2021-09-23T12:00:04.087Z"
   },
   {
    "duration": 33,
    "start_time": "2021-09-23T12:00:32.467Z"
   },
   {
    "duration": 11,
    "start_time": "2021-09-23T12:00:54.808Z"
   },
   {
    "duration": 929,
    "start_time": "2021-09-23T12:02:01.260Z"
   },
   {
    "duration": 20,
    "start_time": "2021-09-23T12:02:06.293Z"
   },
   {
    "duration": 3,
    "start_time": "2021-09-23T13:27:39.729Z"
   },
   {
    "duration": 247,
    "start_time": "2021-09-23T13:28:35.600Z"
   },
   {
    "duration": 2756,
    "start_time": "2021-09-23T13:28:57.635Z"
   },
   {
    "duration": 4,
    "start_time": "2021-09-23T13:30:07.237Z"
   },
   {
    "duration": 2724,
    "start_time": "2021-09-23T13:30:09.608Z"
   },
   {
    "duration": 3,
    "start_time": "2021-09-23T13:31:39.203Z"
   },
   {
    "duration": 2849,
    "start_time": "2021-09-23T13:31:41.334Z"
   },
   {
    "duration": 3,
    "start_time": "2021-09-23T13:33:02.957Z"
   },
   {
    "duration": -527,
    "start_time": "2021-09-23T13:33:09.527Z"
   },
   {
    "duration": 2551,
    "start_time": "2021-09-23T13:33:20.350Z"
   },
   {
    "duration": 3,
    "start_time": "2021-09-23T13:33:42.969Z"
   },
   {
    "duration": 4647,
    "start_time": "2021-09-23T13:33:44.947Z"
   },
   {
    "duration": 3,
    "start_time": "2021-09-23T13:34:18.805Z"
   },
   {
    "duration": 2385,
    "start_time": "2021-09-23T13:34:25.509Z"
   },
   {
    "duration": 3,
    "start_time": "2021-09-23T13:34:52.935Z"
   },
   {
    "duration": 856,
    "start_time": "2021-09-23T13:34:55.074Z"
   },
   {
    "duration": 4,
    "start_time": "2021-09-23T13:35:39.248Z"
   },
   {
    "duration": 4,
    "start_time": "2021-09-23T13:35:49.019Z"
   },
   {
    "duration": 4498,
    "start_time": "2021-09-23T13:35:50.492Z"
   },
   {
    "duration": 3,
    "start_time": "2021-09-23T13:36:08.933Z"
   },
   {
    "duration": 4632,
    "start_time": "2021-09-23T13:36:17.624Z"
   },
   {
    "duration": 4,
    "start_time": "2021-09-23T13:40:48.103Z"
   },
   {
    "duration": 357,
    "start_time": "2021-09-23T13:40:50.186Z"
   },
   {
    "duration": 3,
    "start_time": "2021-09-23T13:41:12.944Z"
   },
   {
    "duration": 3919,
    "start_time": "2021-09-23T13:41:15.099Z"
   },
   {
    "duration": 5,
    "start_time": "2021-09-23T13:42:25.501Z"
   },
   {
    "duration": 392,
    "start_time": "2021-09-23T13:42:29.718Z"
   },
   {
    "duration": 4,
    "start_time": "2021-09-23T13:42:53.345Z"
   },
   {
    "duration": 355,
    "start_time": "2021-09-23T13:42:55.406Z"
   },
   {
    "duration": 4,
    "start_time": "2021-09-23T13:43:09.864Z"
   },
   {
    "duration": 362,
    "start_time": "2021-09-23T13:43:12.214Z"
   },
   {
    "duration": 3,
    "start_time": "2021-09-23T13:43:43.687Z"
   },
   {
    "duration": 606,
    "start_time": "2021-09-23T13:43:45.257Z"
   },
   {
    "duration": 435,
    "start_time": "2021-09-23T13:49:00.405Z"
   },
   {
    "duration": 3,
    "start_time": "2021-09-23T13:49:06.816Z"
   },
   {
    "duration": 14,
    "start_time": "2021-09-23T13:49:09.142Z"
   },
   {
    "duration": 4,
    "start_time": "2021-09-23T13:49:49.493Z"
   },
   {
    "duration": 2673,
    "start_time": "2021-09-23T13:49:51.815Z"
   },
   {
    "duration": 4,
    "start_time": "2021-09-23T13:50:07.165Z"
   },
   {
    "duration": 4703,
    "start_time": "2021-09-23T13:50:09.254Z"
   },
   {
    "duration": 4,
    "start_time": "2021-09-23T13:50:42.355Z"
   },
   {
    "duration": 6689,
    "start_time": "2021-09-23T13:50:44.479Z"
   },
   {
    "duration": 3,
    "start_time": "2021-09-23T13:54:59.539Z"
   },
   {
    "duration": 377,
    "start_time": "2021-09-23T13:55:01.768Z"
   },
   {
    "duration": 3,
    "start_time": "2021-09-23T13:55:30.284Z"
   },
   {
    "duration": 4,
    "start_time": "2021-09-23T13:55:32.359Z"
   },
   {
    "duration": 3,
    "start_time": "2021-09-23T13:55:43.919Z"
   },
   {
    "duration": 10,
    "start_time": "2021-09-23T13:55:45.326Z"
   },
   {
    "duration": 4,
    "start_time": "2021-09-23T13:58:11.392Z"
   },
   {
    "duration": 4,
    "start_time": "2021-09-23T13:58:18.199Z"
   },
   {
    "duration": 7081,
    "start_time": "2021-09-23T13:58:20.599Z"
   },
   {
    "duration": 4,
    "start_time": "2021-09-23T13:58:41.663Z"
   },
   {
    "duration": 4616,
    "start_time": "2021-09-23T13:58:44.285Z"
   },
   {
    "duration": 4,
    "start_time": "2021-09-23T14:01:22.661Z"
   },
   {
    "duration": 392,
    "start_time": "2021-09-23T14:01:24.743Z"
   },
   {
    "duration": 10,
    "start_time": "2021-09-23T14:01:35.827Z"
   },
   {
    "duration": 25,
    "start_time": "2021-09-23T14:01:39.223Z"
   },
   {
    "duration": 26,
    "start_time": "2021-09-23T14:02:36.343Z"
   },
   {
    "duration": 25,
    "start_time": "2021-09-23T14:02:43.962Z"
   },
   {
    "duration": 23,
    "start_time": "2021-09-23T14:03:04.983Z"
   },
   {
    "duration": 4,
    "start_time": "2021-09-23T14:09:11.824Z"
   },
   {
    "duration": 23,
    "start_time": "2021-09-23T14:09:13.648Z"
   },
   {
    "duration": 38,
    "start_time": "2021-09-23T14:09:35.439Z"
   },
   {
    "duration": 4,
    "start_time": "2021-09-23T14:09:48.922Z"
   },
   {
    "duration": 464,
    "start_time": "2021-09-23T14:09:50.226Z"
   },
   {
    "duration": 4,
    "start_time": "2021-09-23T14:10:06.019Z"
   },
   {
    "duration": 21,
    "start_time": "2021-09-23T14:10:07.227Z"
   },
   {
    "duration": 3,
    "start_time": "2021-09-23T14:11:26.713Z"
   },
   {
    "duration": 4972,
    "start_time": "2021-09-23T14:11:28.625Z"
   },
   {
    "duration": 3,
    "start_time": "2021-09-23T14:11:57.051Z"
   },
   {
    "duration": 4270,
    "start_time": "2021-09-23T14:11:58.585Z"
   },
   {
    "duration": 6,
    "start_time": "2021-09-23T14:12:53.704Z"
   },
   {
    "duration": 22,
    "start_time": "2021-09-23T14:12:56.286Z"
   },
   {
    "duration": 10,
    "start_time": "2021-09-23T14:13:28.144Z"
   },
   {
    "duration": 4,
    "start_time": "2021-09-23T14:13:32.297Z"
   },
   {
    "duration": 19,
    "start_time": "2021-09-23T14:13:42.769Z"
   },
   {
    "duration": 4,
    "start_time": "2021-09-23T14:13:44.363Z"
   },
   {
    "duration": 558,
    "start_time": "2021-09-23T14:13:54.777Z"
   },
   {
    "duration": 131,
    "start_time": "2021-09-23T14:13:55.337Z"
   },
   {
    "duration": 16,
    "start_time": "2021-09-23T14:13:55.471Z"
   },
   {
    "duration": 22,
    "start_time": "2021-09-23T14:13:55.499Z"
   },
   {
    "duration": 3,
    "start_time": "2021-09-23T14:13:55.523Z"
   },
   {
    "duration": 22,
    "start_time": "2021-09-23T14:13:55.528Z"
   },
   {
    "duration": 4,
    "start_time": "2021-09-23T14:13:55.553Z"
   },
   {
    "duration": 64,
    "start_time": "2021-09-23T14:13:55.559Z"
   },
   {
    "duration": 16,
    "start_time": "2021-09-23T14:13:55.624Z"
   },
   {
    "duration": 23,
    "start_time": "2021-09-23T14:13:55.642Z"
   },
   {
    "duration": 73,
    "start_time": "2021-09-23T14:13:55.667Z"
   },
   {
    "duration": 70,
    "start_time": "2021-09-23T14:13:55.742Z"
   },
   {
    "duration": 49,
    "start_time": "2021-09-23T14:13:55.814Z"
   },
   {
    "duration": 46,
    "start_time": "2021-09-23T14:13:55.865Z"
   },
   {
    "duration": 3,
    "start_time": "2021-09-23T14:13:55.913Z"
   },
   {
    "duration": 11,
    "start_time": "2021-09-23T14:13:55.917Z"
   },
   {
    "duration": 43,
    "start_time": "2021-09-23T14:13:55.929Z"
   },
   {
    "duration": 30,
    "start_time": "2021-09-23T14:13:55.974Z"
   },
   {
    "duration": 10,
    "start_time": "2021-09-23T14:13:56.005Z"
   },
   {
    "duration": 3,
    "start_time": "2021-09-23T14:13:56.017Z"
   },
   {
    "duration": 25,
    "start_time": "2021-09-23T14:13:56.021Z"
   },
   {
    "duration": 2,
    "start_time": "2021-09-23T14:13:56.049Z"
   },
   {
    "duration": 4,
    "start_time": "2021-09-23T14:13:56.053Z"
   },
   {
    "duration": 5,
    "start_time": "2021-09-23T14:13:56.059Z"
   },
   {
    "duration": 6,
    "start_time": "2021-09-23T14:13:56.065Z"
   },
   {
    "duration": 5,
    "start_time": "2021-09-23T14:13:56.072Z"
   },
   {
    "duration": 2,
    "start_time": "2021-09-23T14:13:56.100Z"
   },
   {
    "duration": 5,
    "start_time": "2021-09-23T14:13:56.103Z"
   },
   {
    "duration": 4,
    "start_time": "2021-09-23T14:13:56.110Z"
   },
   {
    "duration": 5,
    "start_time": "2021-09-23T14:13:56.115Z"
   },
   {
    "duration": 13,
    "start_time": "2021-09-23T14:13:56.121Z"
   },
   {
    "duration": 9,
    "start_time": "2021-09-23T14:13:56.135Z"
   },
   {
    "duration": 7,
    "start_time": "2021-09-23T14:13:56.145Z"
   },
   {
    "duration": 11,
    "start_time": "2021-09-23T14:13:56.153Z"
   },
   {
    "duration": 7,
    "start_time": "2021-09-23T14:13:56.166Z"
   },
   {
    "duration": 12,
    "start_time": "2021-09-23T14:13:56.174Z"
   },
   {
    "duration": 10,
    "start_time": "2021-09-23T14:13:56.188Z"
   },
   {
    "duration": 11,
    "start_time": "2021-09-23T14:13:56.199Z"
   },
   {
    "duration": 4,
    "start_time": "2021-09-23T14:14:19.411Z"
   },
   {
    "duration": 5166,
    "start_time": "2021-09-23T14:14:20.719Z"
   },
   {
    "duration": 4,
    "start_time": "2021-09-23T14:14:53.445Z"
   },
   {
    "duration": 16,
    "start_time": "2021-09-23T14:15:00.885Z"
   },
   {
    "duration": 20,
    "start_time": "2021-09-23T14:15:02.381Z"
   },
   {
    "duration": 49,
    "start_time": "2021-09-23T14:15:05.237Z"
   },
   {
    "duration": 54,
    "start_time": "2021-09-23T14:15:07.912Z"
   },
   {
    "duration": 48,
    "start_time": "2021-09-23T14:15:10.139Z"
   },
   {
    "duration": 39,
    "start_time": "2021-09-23T14:15:13.283Z"
   },
   {
    "duration": 3,
    "start_time": "2021-09-23T14:15:25.665Z"
   },
   {
    "duration": 9,
    "start_time": "2021-09-23T14:15:28.083Z"
   },
   {
    "duration": 49,
    "start_time": "2021-09-23T14:15:30.385Z"
   },
   {
    "duration": 11,
    "start_time": "2021-09-23T14:15:37.138Z"
   },
   {
    "duration": 16,
    "start_time": "2021-09-23T14:15:54.327Z"
   },
   {
    "duration": 18,
    "start_time": "2021-09-23T14:16:20.854Z"
   },
   {
    "duration": 4,
    "start_time": "2021-09-23T14:16:44.478Z"
   },
   {
    "duration": 3572,
    "start_time": "2021-09-23T14:16:47.218Z"
   },
   {
    "duration": 4,
    "start_time": "2021-09-23T14:17:09.208Z"
   },
   {
    "duration": 4,
    "start_time": "2021-09-23T14:18:19.001Z"
   },
   {
    "duration": 24,
    "start_time": "2021-09-23T14:18:20.144Z"
   },
   {
    "duration": 3,
    "start_time": "2021-09-23T14:18:28.892Z"
   },
   {
    "duration": 16,
    "start_time": "2021-09-23T14:18:29.924Z"
   },
   {
    "duration": 15,
    "start_time": "2021-09-23T14:18:54.649Z"
   },
   {
    "duration": 17,
    "start_time": "2021-09-23T14:26:59.572Z"
   },
   {
    "duration": 14,
    "start_time": "2021-09-23T14:27:00.900Z"
   },
   {
    "duration": 16,
    "start_time": "2021-09-23T14:27:01.530Z"
   },
   {
    "duration": 15,
    "start_time": "2021-09-23T14:27:02.099Z"
   },
   {
    "duration": 17,
    "start_time": "2021-09-23T14:27:02.639Z"
   },
   {
    "duration": 15,
    "start_time": "2021-09-23T14:27:03.196Z"
   },
   {
    "duration": 172,
    "start_time": "2021-09-23T14:28:24.818Z"
   },
   {
    "duration": 15,
    "start_time": "2021-09-23T14:28:29.789Z"
   },
   {
    "duration": 15,
    "start_time": "2021-09-23T14:28:30.326Z"
   },
   {
    "duration": 2,
    "start_time": "2021-09-23T14:28:31.897Z"
   },
   {
    "duration": 15,
    "start_time": "2021-09-23T14:28:39.245Z"
   },
   {
    "duration": 14,
    "start_time": "2021-09-23T14:28:39.997Z"
   },
   {
    "duration": 2,
    "start_time": "2021-09-23T14:28:41.897Z"
   },
   {
    "duration": 3,
    "start_time": "2021-09-23T14:28:49.566Z"
   },
   {
    "duration": 24,
    "start_time": "2021-09-23T14:29:28.200Z"
   },
   {
    "duration": 14,
    "start_time": "2021-09-23T14:29:30.884Z"
   },
   {
    "duration": 13,
    "start_time": "2021-09-23T14:29:31.433Z"
   },
   {
    "duration": 26,
    "start_time": "2021-09-23T14:29:32.064Z"
   },
   {
    "duration": 18,
    "start_time": "2021-09-23T14:29:44.474Z"
   },
   {
    "duration": 16,
    "start_time": "2021-09-23T14:29:45.098Z"
   },
   {
    "duration": 18,
    "start_time": "2021-09-23T14:30:38.344Z"
   },
   {
    "duration": 14,
    "start_time": "2021-09-23T14:30:38.986Z"
   },
   {
    "duration": 14,
    "start_time": "2021-09-23T14:31:42.724Z"
   },
   {
    "duration": 238,
    "start_time": "2021-09-23T14:32:05.348Z"
   },
   {
    "duration": 187,
    "start_time": "2021-09-23T14:33:15.099Z"
   },
   {
    "duration": 9,
    "start_time": "2021-09-23T14:47:34.691Z"
   },
   {
    "duration": 183,
    "start_time": "2021-09-23T14:55:03.977Z"
   },
   {
    "duration": 11,
    "start_time": "2021-09-23T14:55:09.996Z"
   },
   {
    "duration": 59,
    "start_time": "2021-09-23T14:55:27.372Z"
   },
   {
    "duration": 10,
    "start_time": "2021-09-23T14:55:32.107Z"
   },
   {
    "duration": 426,
    "start_time": "2021-09-24T07:12:37.571Z"
   },
   {
    "duration": 881,
    "start_time": "2021-09-24T07:12:53.898Z"
   },
   {
    "duration": 471,
    "start_time": "2021-09-24T07:14:18.304Z"
   },
   {
    "duration": 355,
    "start_time": "2021-09-24T07:14:35.117Z"
   },
   {
    "duration": 734,
    "start_time": "2021-09-24T07:14:39.088Z"
   },
   {
    "duration": 140,
    "start_time": "2021-09-24T07:14:41.431Z"
   },
   {
    "duration": 16,
    "start_time": "2021-09-24T07:14:43.753Z"
   },
   {
    "duration": 5,
    "start_time": "2021-09-24T07:14:49.889Z"
   },
   {
    "duration": 21,
    "start_time": "2021-09-24T07:14:52.713Z"
   },
   {
    "duration": 4,
    "start_time": "2021-09-24T07:14:54.390Z"
   },
   {
    "duration": 41,
    "start_time": "2021-09-24T07:14:58.258Z"
   },
   {
    "duration": 17,
    "start_time": "2021-09-24T07:15:00.765Z"
   },
   {
    "duration": 22,
    "start_time": "2021-09-24T07:15:02.701Z"
   },
   {
    "duration": 57,
    "start_time": "2021-09-24T07:15:05.154Z"
   },
   {
    "duration": 75,
    "start_time": "2021-09-24T07:15:07.979Z"
   },
   {
    "duration": 52,
    "start_time": "2021-09-24T07:15:09.914Z"
   },
   {
    "duration": 44,
    "start_time": "2021-09-24T07:15:12.460Z"
   },
   {
    "duration": 2,
    "start_time": "2021-09-24T07:15:31.964Z"
   },
   {
    "duration": 10,
    "start_time": "2021-09-24T07:15:34.448Z"
   },
   {
    "duration": 47,
    "start_time": "2021-09-24T07:15:36.666Z"
   },
   {
    "duration": 19,
    "start_time": "2021-09-24T07:15:45.883Z"
   },
   {
    "duration": 18,
    "start_time": "2021-09-24T07:15:49.121Z"
   },
   {
    "duration": 4,
    "start_time": "2021-09-24T07:15:53.159Z"
   },
   {
    "duration": 10,
    "start_time": "2021-09-24T07:16:03.559Z"
   },
   {
    "duration": 13,
    "start_time": "2021-09-24T07:16:23.439Z"
   },
   {
    "duration": 11,
    "start_time": "2021-09-24T07:16:24.814Z"
   },
   {
    "duration": 5,
    "start_time": "2021-09-24T07:38:55.139Z"
   },
   {
    "duration": 740,
    "start_time": "2021-09-24T08:07:12.991Z"
   },
   {
    "duration": 5,
    "start_time": "2021-09-24T08:07:33.768Z"
   },
   {
    "duration": 22,
    "start_time": "2021-09-24T08:07:36.187Z"
   },
   {
    "duration": 15,
    "start_time": "2021-09-24T08:08:37.369Z"
   },
   {
    "duration": 17,
    "start_time": "2021-09-24T08:09:10.051Z"
   },
   {
    "duration": 13,
    "start_time": "2021-09-24T08:09:14.327Z"
   },
   {
    "duration": 16,
    "start_time": "2021-09-24T08:09:22.446Z"
   },
   {
    "duration": 4,
    "start_time": "2021-09-24T08:09:29.797Z"
   },
   {
    "duration": 17,
    "start_time": "2021-09-24T08:09:33.432Z"
   },
   {
    "duration": 12,
    "start_time": "2021-09-24T08:09:35.600Z"
   },
   {
    "duration": 4,
    "start_time": "2021-09-24T08:09:46.540Z"
   },
   {
    "duration": 744,
    "start_time": "2021-09-24T08:09:49.446Z"
   },
   {
    "duration": 4,
    "start_time": "2021-09-24T08:10:15.432Z"
   },
   {
    "duration": 28,
    "start_time": "2021-09-24T08:10:19.446Z"
   },
   {
    "duration": 19,
    "start_time": "2021-09-24T08:10:28.944Z"
   },
   {
    "duration": 18,
    "start_time": "2021-09-24T08:10:31.424Z"
   },
   {
    "duration": 15,
    "start_time": "2021-09-24T08:10:33.740Z"
   },
   {
    "duration": 114,
    "start_time": "2021-09-24T08:11:33.654Z"
   },
   {
    "duration": 5,
    "start_time": "2021-09-24T08:11:39.864Z"
   },
   {
    "duration": 10263,
    "start_time": "2021-09-24T08:11:42.151Z"
   },
   {
    "duration": -7,
    "start_time": "2021-09-24T08:11:52.423Z"
   },
   {
    "duration": -16,
    "start_time": "2021-09-24T08:11:52.433Z"
   },
   {
    "duration": 5,
    "start_time": "2021-09-24T08:12:35.632Z"
   },
   {
    "duration": 4,
    "start_time": "2021-09-24T08:12:44.732Z"
   },
   {
    "duration": 19,
    "start_time": "2021-09-24T08:12:47.204Z"
   },
   {
    "duration": 14,
    "start_time": "2021-09-24T08:12:51.226Z"
   },
   {
    "duration": 16,
    "start_time": "2021-09-24T08:12:53.592Z"
   },
   {
    "duration": 12,
    "start_time": "2021-09-24T08:12:55.737Z"
   },
   {
    "duration": 20,
    "start_time": "2021-09-24T08:14:23.460Z"
   },
   {
    "duration": 17,
    "start_time": "2021-09-24T08:15:10.283Z"
   },
   {
    "duration": 23,
    "start_time": "2021-09-24T08:15:14.302Z"
   },
   {
    "duration": 34,
    "start_time": "2021-09-24T08:15:16.790Z"
   },
   {
    "duration": 4,
    "start_time": "2021-09-24T08:16:56.632Z"
   },
   {
    "duration": 24,
    "start_time": "2021-09-24T08:16:58.663Z"
   },
   {
    "duration": 4,
    "start_time": "2021-09-24T08:17:09.553Z"
   },
   {
    "duration": 30,
    "start_time": "2021-09-24T08:17:11.077Z"
   },
   {
    "duration": 19,
    "start_time": "2021-09-24T08:17:15.891Z"
   },
   {
    "duration": 4,
    "start_time": "2021-09-24T08:17:43.322Z"
   },
   {
    "duration": 28,
    "start_time": "2021-09-24T08:17:45.844Z"
   },
   {
    "duration": 4,
    "start_time": "2021-09-24T08:17:52.061Z"
   },
   {
    "duration": 19,
    "start_time": "2021-09-24T08:17:53.237Z"
   },
   {
    "duration": 13,
    "start_time": "2021-09-24T08:17:55.711Z"
   },
   {
    "duration": 17,
    "start_time": "2021-09-24T08:17:58.172Z"
   },
   {
    "duration": 13,
    "start_time": "2021-09-24T08:18:00.374Z"
   },
   {
    "duration": 104,
    "start_time": "2021-09-24T08:38:26.374Z"
   },
   {
    "duration": 59,
    "start_time": "2021-09-24T08:38:41.043Z"
   },
   {
    "duration": 21,
    "start_time": "2021-09-24T08:38:58.064Z"
   },
   {
    "duration": 73,
    "start_time": "2021-09-24T08:39:02.917Z"
   },
   {
    "duration": 14,
    "start_time": "2021-09-24T08:39:42.836Z"
   },
   {
    "duration": 423,
    "start_time": "2021-09-24T08:40:07.106Z"
   },
   {
    "duration": 12,
    "start_time": "2021-09-24T08:40:20.211Z"
   },
   {
    "duration": 12,
    "start_time": "2021-09-24T08:40:28.797Z"
   },
   {
    "duration": 11,
    "start_time": "2021-09-24T08:40:36.335Z"
   },
   {
    "duration": 375,
    "start_time": "2021-09-24T08:40:38.907Z"
   },
   {
    "duration": 10,
    "start_time": "2021-09-24T08:40:53.693Z"
   },
   {
    "duration": 10,
    "start_time": "2021-09-24T08:40:57.807Z"
   },
   {
    "duration": 22,
    "start_time": "2021-09-24T08:41:03.686Z"
   },
   {
    "duration": 10,
    "start_time": "2021-09-24T08:41:15.095Z"
   },
   {
    "duration": 19,
    "start_time": "2021-09-24T08:41:34.301Z"
   },
   {
    "duration": 9,
    "start_time": "2021-09-24T08:41:51.276Z"
   },
   {
    "duration": 16,
    "start_time": "2021-09-24T08:42:01.697Z"
   },
   {
    "duration": 27,
    "start_time": "2021-09-24T08:42:18.504Z"
   },
   {
    "duration": 9,
    "start_time": "2021-09-24T08:43:03.732Z"
   },
   {
    "duration": 350,
    "start_time": "2021-09-24T08:43:49.761Z"
   },
   {
    "duration": 8,
    "start_time": "2021-09-24T08:43:55.414Z"
   },
   {
    "duration": 135,
    "start_time": "2021-09-24T08:44:14.168Z"
   },
   {
    "duration": 10,
    "start_time": "2021-09-24T08:44:18.994Z"
   },
   {
    "duration": 10,
    "start_time": "2021-09-24T08:44:40.894Z"
   },
   {
    "duration": 6,
    "start_time": "2021-09-24T08:45:21.310Z"
   },
   {
    "duration": 4,
    "start_time": "2021-09-24T08:45:30.317Z"
   },
   {
    "duration": 345,
    "start_time": "2021-09-24T12:10:44.418Z"
   },
   {
    "duration": 736,
    "start_time": "2021-09-24T12:10:52.001Z"
   },
   {
    "duration": 192,
    "start_time": "2021-09-24T12:10:52.740Z"
   },
   {
    "duration": 32,
    "start_time": "2021-09-24T12:10:52.935Z"
   },
   {
    "duration": 33,
    "start_time": "2021-09-24T12:10:52.970Z"
   },
   {
    "duration": 6,
    "start_time": "2021-09-24T12:10:53.006Z"
   },
   {
    "duration": 66,
    "start_time": "2021-09-24T12:10:53.015Z"
   },
   {
    "duration": 6,
    "start_time": "2021-09-24T12:10:53.083Z"
   },
   {
    "duration": 57,
    "start_time": "2021-09-24T12:10:53.091Z"
   },
   {
    "duration": 28,
    "start_time": "2021-09-24T12:10:53.169Z"
   },
   {
    "duration": 35,
    "start_time": "2021-09-24T12:10:53.202Z"
   },
   {
    "duration": 113,
    "start_time": "2021-09-24T12:10:53.240Z"
   },
   {
    "duration": 122,
    "start_time": "2021-09-24T12:10:53.355Z"
   },
   {
    "duration": 90,
    "start_time": "2021-09-24T12:10:53.479Z"
   },
   {
    "duration": 59,
    "start_time": "2021-09-24T12:10:53.571Z"
   },
   {
    "duration": 4,
    "start_time": "2021-09-24T12:10:53.632Z"
   },
   {
    "duration": 36,
    "start_time": "2021-09-24T12:10:53.638Z"
   },
   {
    "duration": 69,
    "start_time": "2021-09-24T12:10:53.677Z"
   },
   {
    "duration": 44,
    "start_time": "2021-09-24T12:10:53.748Z"
   },
   {
    "duration": 26,
    "start_time": "2021-09-24T12:10:53.794Z"
   },
   {
    "duration": 98,
    "start_time": "2021-09-24T12:10:53.823Z"
   },
   {
    "duration": 351,
    "start_time": "2021-09-24T12:10:53.573Z"
   },
   {
    "duration": 348,
    "start_time": "2021-09-24T12:10:53.578Z"
   },
   {
    "duration": 345,
    "start_time": "2021-09-24T12:10:53.582Z"
   },
   {
    "duration": 344,
    "start_time": "2021-09-24T12:10:53.585Z"
   },
   {
    "duration": 341,
    "start_time": "2021-09-24T12:10:53.589Z"
   },
   {
    "duration": 339,
    "start_time": "2021-09-24T12:10:53.593Z"
   },
   {
    "duration": 336,
    "start_time": "2021-09-24T12:10:53.597Z"
   },
   {
    "duration": 334,
    "start_time": "2021-09-24T12:10:53.601Z"
   },
   {
    "duration": 332,
    "start_time": "2021-09-24T12:10:53.604Z"
   },
   {
    "duration": 331,
    "start_time": "2021-09-24T12:10:53.607Z"
   },
   {
    "duration": 329,
    "start_time": "2021-09-24T12:10:53.610Z"
   },
   {
    "duration": 328,
    "start_time": "2021-09-24T12:10:53.613Z"
   },
   {
    "duration": 325,
    "start_time": "2021-09-24T12:10:53.617Z"
   },
   {
    "duration": 323,
    "start_time": "2021-09-24T12:10:53.620Z"
   },
   {
    "duration": 321,
    "start_time": "2021-09-24T12:10:53.624Z"
   },
   {
    "duration": 319,
    "start_time": "2021-09-24T12:10:53.627Z"
   },
   {
    "duration": 318,
    "start_time": "2021-09-24T12:10:53.630Z"
   },
   {
    "duration": 314,
    "start_time": "2021-09-24T12:10:53.635Z"
   },
   {
    "duration": 373,
    "start_time": "2021-09-24T12:10:59.203Z"
   },
   {
    "duration": 5,
    "start_time": "2021-09-24T12:11:05.342Z"
   },
   {
    "duration": 204,
    "start_time": "2021-09-24T12:11:07.458Z"
   },
   {
    "duration": 15,
    "start_time": "2021-09-24T12:11:09.614Z"
   },
   {
    "duration": 6,
    "start_time": "2021-09-24T12:11:16.869Z"
   },
   {
    "duration": 22,
    "start_time": "2021-09-24T12:11:19.177Z"
   },
   {
    "duration": 5,
    "start_time": "2021-09-24T12:11:21.320Z"
   },
   {
    "duration": 55,
    "start_time": "2021-09-24T12:11:23.457Z"
   },
   {
    "duration": 22,
    "start_time": "2021-09-24T12:11:26.383Z"
   },
   {
    "duration": 32,
    "start_time": "2021-09-24T12:11:28.271Z"
   },
   {
    "duration": 83,
    "start_time": "2021-09-24T12:11:30.574Z"
   },
   {
    "duration": 94,
    "start_time": "2021-09-24T12:11:32.648Z"
   },
   {
    "duration": 79,
    "start_time": "2021-09-24T12:11:35.091Z"
   },
   {
    "duration": 59,
    "start_time": "2021-09-24T12:11:37.331Z"
   },
   {
    "duration": 4,
    "start_time": "2021-09-24T12:11:41.307Z"
   },
   {
    "duration": 13,
    "start_time": "2021-09-24T12:11:43.568Z"
   },
   {
    "duration": 82,
    "start_time": "2021-09-24T12:11:45.512Z"
   },
   {
    "duration": 27,
    "start_time": "2021-09-24T12:11:56.004Z"
   },
   {
    "duration": 14,
    "start_time": "2021-09-24T12:12:15.745Z"
   },
   {
    "duration": 26,
    "start_time": "2021-09-24T12:12:18.053Z"
   },
   {
    "duration": 15,
    "start_time": "2021-09-24T12:12:23.450Z"
   },
   {
    "duration": 80,
    "start_time": "2021-09-24T12:33:07.294Z"
   },
   {
    "duration": 90,
    "start_time": "2021-09-24T12:33:18.845Z"
   },
   {
    "duration": 77,
    "start_time": "2021-09-24T12:33:27.817Z"
   },
   {
    "duration": 79,
    "start_time": "2021-09-24T12:33:35.558Z"
   },
   {
    "duration": 1871,
    "start_time": "2021-09-24T12:33:39.123Z"
   },
   {
    "duration": 5,
    "start_time": "2021-09-24T12:33:55.477Z"
   },
   {
    "duration": 96,
    "start_time": "2021-09-24T12:35:16.426Z"
   },
   {
    "duration": 5,
    "start_time": "2021-09-24T12:35:46.425Z"
   },
   {
    "duration": 23,
    "start_time": "2021-09-24T12:43:59.356Z"
   },
   {
    "duration": 21,
    "start_time": "2021-09-24T12:44:01.022Z"
   },
   {
    "duration": 23,
    "start_time": "2021-09-24T12:44:01.690Z"
   },
   {
    "duration": 22,
    "start_time": "2021-09-24T12:44:02.409Z"
   },
   {
    "duration": 24,
    "start_time": "2021-09-24T12:44:03.137Z"
   },
   {
    "duration": 22,
    "start_time": "2021-09-24T12:44:03.699Z"
   },
   {
    "duration": 13,
    "start_time": "2021-09-24T12:44:05.482Z"
   },
   {
    "duration": 29,
    "start_time": "2021-09-24T12:44:15.539Z"
   },
   {
    "duration": 12,
    "start_time": "2021-09-24T12:44:22.628Z"
   },
   {
    "duration": 250,
    "start_time": "2021-09-24T12:47:22.540Z"
   },
   {
    "duration": 7,
    "start_time": "2021-09-24T12:47:30.437Z"
   },
   {
    "duration": 25,
    "start_time": "2021-09-24T12:47:32.468Z"
   },
   {
    "duration": 6,
    "start_time": "2021-09-24T12:48:06.077Z"
   },
   {
    "duration": 25,
    "start_time": "2021-09-24T12:48:08.661Z"
   },
   {
    "duration": 6,
    "start_time": "2021-09-24T12:48:22.780Z"
   },
   {
    "duration": 26,
    "start_time": "2021-09-24T12:48:25.942Z"
   },
   {
    "duration": 6,
    "start_time": "2021-09-24T12:48:38.012Z"
   },
   {
    "duration": 25,
    "start_time": "2021-09-24T12:48:40.391Z"
   },
   {
    "duration": 25,
    "start_time": "2021-09-24T12:48:46.394Z"
   },
   {
    "duration": 18,
    "start_time": "2021-09-24T12:48:48.796Z"
   },
   {
    "duration": 24,
    "start_time": "2021-09-24T12:48:50.984Z"
   },
   {
    "duration": 17,
    "start_time": "2021-09-24T12:48:51.857Z"
   },
   {
    "duration": 12,
    "start_time": "2021-09-24T12:48:59.192Z"
   },
   {
    "duration": 6,
    "start_time": "2021-09-24T12:49:02.528Z"
   },
   {
    "duration": 9,
    "start_time": "2021-09-24T12:49:12.036Z"
   },
   {
    "duration": 7,
    "start_time": "2021-09-24T12:49:14.980Z"
   },
   {
    "duration": 27,
    "start_time": "2021-09-24T12:50:42.901Z"
   },
   {
    "duration": 53,
    "start_time": "2021-09-24T12:50:57.608Z"
   },
   {
    "duration": 16,
    "start_time": "2021-09-24T12:55:25.685Z"
   },
   {
    "duration": 17,
    "start_time": "2021-09-24T12:55:30.742Z"
   },
   {
    "duration": 3,
    "start_time": "2021-09-24T12:58:02.668Z"
   },
   {
    "duration": 303,
    "start_time": "2021-09-24T12:58:35.692Z"
   },
   {
    "duration": 306,
    "start_time": "2021-09-24T12:58:41.180Z"
   },
   {
    "duration": 5,
    "start_time": "2021-09-24T12:58:53.149Z"
   },
   {
    "duration": 7,
    "start_time": "2021-09-24T12:59:01.925Z"
   },
   {
    "duration": 6,
    "start_time": "2021-09-24T12:59:49.055Z"
   },
   {
    "duration": 7,
    "start_time": "2021-09-24T13:00:07.105Z"
   },
   {
    "duration": 5,
    "start_time": "2021-09-24T13:00:20.908Z"
   },
   {
    "duration": 7,
    "start_time": "2021-09-24T13:00:25.065Z"
   },
   {
    "duration": 6,
    "start_time": "2021-09-24T13:01:05.716Z"
   },
   {
    "duration": 7,
    "start_time": "2021-09-24T13:01:09.857Z"
   },
   {
    "duration": 41,
    "start_time": "2021-09-24T13:02:29.417Z"
   },
   {
    "duration": 42,
    "start_time": "2021-09-24T13:02:40.490Z"
   },
   {
    "duration": 43,
    "start_time": "2021-09-24T13:03:03.078Z"
   },
   {
    "duration": 94,
    "start_time": "2021-09-24T13:03:22.876Z"
   },
   {
    "duration": 5,
    "start_time": "2021-09-24T13:03:36.915Z"
   },
   {
    "duration": 88,
    "start_time": "2021-09-24T13:03:38.429Z"
   },
   {
    "duration": 93,
    "start_time": "2021-09-24T13:03:44.082Z"
   },
   {
    "duration": 96,
    "start_time": "2021-09-24T13:03:49.723Z"
   },
   {
    "duration": 90,
    "start_time": "2021-09-24T13:04:00.288Z"
   },
   {
    "duration": 90,
    "start_time": "2021-09-24T13:05:09.756Z"
   },
   {
    "duration": 91,
    "start_time": "2021-09-24T13:05:24.837Z"
   },
   {
    "duration": 94,
    "start_time": "2021-09-24T13:06:16.170Z"
   },
   {
    "duration": 91,
    "start_time": "2021-09-24T13:06:22.159Z"
   },
   {
    "duration": 309,
    "start_time": "2021-09-24T13:06:39.278Z"
   },
   {
    "duration": 98,
    "start_time": "2021-09-24T13:06:50.754Z"
   },
   {
    "duration": 92,
    "start_time": "2021-09-24T13:07:11.035Z"
   },
   {
    "duration": 93,
    "start_time": "2021-09-24T13:07:20.102Z"
   },
   {
    "duration": 88,
    "start_time": "2021-09-24T13:15:22.718Z"
   },
   {
    "duration": 96,
    "start_time": "2021-09-24T13:15:41.810Z"
   },
   {
    "duration": 92,
    "start_time": "2021-09-24T13:17:20.126Z"
   },
   {
    "duration": 93,
    "start_time": "2021-09-24T13:17:40.783Z"
   },
   {
    "duration": 97,
    "start_time": "2021-09-24T13:27:18.162Z"
   },
   {
    "duration": 106,
    "start_time": "2021-09-24T13:47:18.311Z"
   },
   {
    "duration": 93,
    "start_time": "2021-09-24T13:47:24.012Z"
   },
   {
    "duration": 371,
    "start_time": "2021-09-24T13:47:51.191Z"
   },
   {
    "duration": 94,
    "start_time": "2021-09-24T13:48:00.384Z"
   },
   {
    "duration": 318,
    "start_time": "2021-09-24T13:48:21.735Z"
   },
   {
    "duration": 12,
    "start_time": "2021-09-24T13:48:31.940Z"
   },
   {
    "duration": 97,
    "start_time": "2021-09-24T13:49:17.306Z"
   },
   {
    "duration": 95,
    "start_time": "2021-09-24T13:49:25.633Z"
   },
   {
    "duration": 90,
    "start_time": "2021-09-24T13:49:40.531Z"
   },
   {
    "duration": 97,
    "start_time": "2021-09-24T13:49:48.340Z"
   },
   {
    "duration": 315,
    "start_time": "2021-09-24T13:50:50.490Z"
   },
   {
    "duration": 92,
    "start_time": "2021-09-24T13:50:57.351Z"
   },
   {
    "duration": 88,
    "start_time": "2021-09-24T13:51:19.686Z"
   },
   {
    "duration": 97,
    "start_time": "2021-09-24T13:51:27.167Z"
   },
   {
    "duration": 101,
    "start_time": "2021-09-24T13:51:36.656Z"
   },
   {
    "duration": 91,
    "start_time": "2021-09-24T13:51:40.658Z"
   },
   {
    "duration": 92,
    "start_time": "2021-09-24T13:52:10.537Z"
   },
   {
    "duration": 106,
    "start_time": "2021-09-24T13:52:40.117Z"
   },
   {
    "duration": 90,
    "start_time": "2021-09-24T13:52:43.351Z"
   },
   {
    "duration": 86,
    "start_time": "2021-09-24T13:52:54.915Z"
   },
   {
    "duration": 91,
    "start_time": "2021-09-24T13:52:58.913Z"
   },
   {
    "duration": 14,
    "start_time": "2021-09-24T13:53:34.032Z"
   },
   {
    "duration": 19,
    "start_time": "2021-09-24T13:53:38.117Z"
   },
   {
    "duration": 15,
    "start_time": "2021-09-24T13:53:39.796Z"
   },
   {
    "duration": 24,
    "start_time": "2021-09-24T13:53:45.686Z"
   },
   {
    "duration": 17,
    "start_time": "2021-09-24T13:53:47.348Z"
   },
   {
    "duration": 23,
    "start_time": "2021-09-24T13:53:48.064Z"
   },
   {
    "duration": 17,
    "start_time": "2021-09-24T13:53:49.476Z"
   },
   {
    "duration": 14,
    "start_time": "2021-09-24T13:53:53.673Z"
   },
   {
    "duration": 7,
    "start_time": "2021-09-24T13:53:55.302Z"
   },
   {
    "duration": 11,
    "start_time": "2021-09-24T13:53:59.045Z"
   },
   {
    "duration": 8,
    "start_time": "2021-09-24T13:54:02.297Z"
   },
   {
    "duration": 778,
    "start_time": "2021-09-24T17:05:18.807Z"
   },
   {
    "duration": 204,
    "start_time": "2021-09-24T17:05:19.587Z"
   },
   {
    "duration": 37,
    "start_time": "2021-09-24T17:05:19.795Z"
   },
   {
    "duration": 38,
    "start_time": "2021-09-24T17:05:19.836Z"
   },
   {
    "duration": 9,
    "start_time": "2021-09-24T17:05:19.876Z"
   },
   {
    "duration": 66,
    "start_time": "2021-09-24T17:05:19.887Z"
   },
   {
    "duration": 6,
    "start_time": "2021-09-24T17:05:19.956Z"
   },
   {
    "duration": 85,
    "start_time": "2021-09-24T17:05:19.965Z"
   },
   {
    "duration": 22,
    "start_time": "2021-09-24T17:05:20.055Z"
   },
   {
    "duration": 44,
    "start_time": "2021-09-24T17:05:20.080Z"
   },
   {
    "duration": 99,
    "start_time": "2021-09-24T17:05:20.130Z"
   },
   {
    "duration": 120,
    "start_time": "2021-09-24T17:05:20.232Z"
   },
   {
    "duration": 87,
    "start_time": "2021-09-24T17:05:20.355Z"
   },
   {
    "duration": 58,
    "start_time": "2021-09-24T17:05:20.445Z"
   },
   {
    "duration": 7,
    "start_time": "2021-09-24T17:05:20.527Z"
   },
   {
    "duration": 37,
    "start_time": "2021-09-24T17:05:20.537Z"
   },
   {
    "duration": 83,
    "start_time": "2021-09-24T17:05:20.577Z"
   },
   {
    "duration": 16,
    "start_time": "2021-09-24T17:05:20.664Z"
   },
   {
    "duration": 16,
    "start_time": "2021-09-24T17:05:20.683Z"
   },
   {
    "duration": 8,
    "start_time": "2021-09-24T17:05:20.724Z"
   },
   {
    "duration": 42,
    "start_time": "2021-09-24T17:05:20.735Z"
   },
   {
    "duration": 25,
    "start_time": "2021-09-24T17:05:20.780Z"
   },
   {
    "duration": 32,
    "start_time": "2021-09-24T17:05:20.808Z"
   },
   {
    "duration": 35,
    "start_time": "2021-09-24T17:05:20.843Z"
   },
   {
    "duration": 49,
    "start_time": "2021-09-24T17:05:20.880Z"
   },
   {
    "duration": 27,
    "start_time": "2021-09-24T17:05:20.933Z"
   },
   {
    "duration": 12,
    "start_time": "2021-09-24T17:05:20.964Z"
   },
   {
    "duration": 23,
    "start_time": "2021-09-24T17:05:20.979Z"
   },
   {
    "duration": 40,
    "start_time": "2021-09-24T17:05:21.004Z"
   },
   {
    "duration": 33,
    "start_time": "2021-09-24T17:05:21.047Z"
   },
   {
    "duration": 78,
    "start_time": "2021-09-24T17:05:21.083Z"
   },
   {
    "duration": 19,
    "start_time": "2021-09-24T17:05:21.163Z"
   },
   {
    "duration": 58,
    "start_time": "2021-09-24T17:05:21.185Z"
   },
   {
    "duration": 19,
    "start_time": "2021-09-24T17:05:21.247Z"
   },
   {
    "duration": 17,
    "start_time": "2021-09-24T17:05:21.268Z"
   },
   {
    "duration": 11,
    "start_time": "2021-09-24T17:05:21.287Z"
   },
   {
    "duration": 27,
    "start_time": "2021-09-24T17:05:21.300Z"
   },
   {
    "duration": 23,
    "start_time": "2021-09-24T17:05:21.330Z"
   },
   {
    "duration": 22,
    "start_time": "2021-09-24T17:06:30.282Z"
   },
   {
    "duration": 62,
    "start_time": "2021-09-24T17:07:55.581Z"
   },
   {
    "duration": 3,
    "start_time": "2021-09-24T17:07:58.208Z"
   },
   {
    "duration": 199,
    "start_time": "2021-09-24T17:07:58.214Z"
   },
   {
    "duration": 18,
    "start_time": "2021-09-24T17:07:58.416Z"
   },
   {
    "duration": 30,
    "start_time": "2021-09-24T17:07:58.437Z"
   },
   {
    "duration": 40,
    "start_time": "2021-09-24T17:07:58.470Z"
   },
   {
    "duration": 12,
    "start_time": "2021-09-24T17:07:58.513Z"
   },
   {
    "duration": 41,
    "start_time": "2021-09-24T17:07:58.528Z"
   },
   {
    "duration": 5,
    "start_time": "2021-09-24T17:07:58.574Z"
   },
   {
    "duration": 89,
    "start_time": "2021-09-24T17:07:58.581Z"
   },
   {
    "duration": 21,
    "start_time": "2021-09-24T17:07:58.672Z"
   },
   {
    "duration": 52,
    "start_time": "2021-09-24T17:07:58.696Z"
   },
   {
    "duration": 101,
    "start_time": "2021-09-24T17:07:58.750Z"
   },
   {
    "duration": 100,
    "start_time": "2021-09-24T17:07:58.853Z"
   },
   {
    "duration": 83,
    "start_time": "2021-09-24T17:07:58.955Z"
   },
   {
    "duration": 56,
    "start_time": "2021-09-24T17:07:59.041Z"
   },
   {
    "duration": 63,
    "start_time": "2021-09-24T17:07:59.805Z"
   },
   {
    "duration": 5,
    "start_time": "2021-09-24T17:08:02.455Z"
   },
   {
    "duration": 18,
    "start_time": "2021-09-24T17:08:02.463Z"
   },
   {
    "duration": 92,
    "start_time": "2021-09-24T17:08:02.484Z"
   },
   {
    "duration": 15,
    "start_time": "2021-09-24T17:08:02.579Z"
   },
   {
    "duration": 28,
    "start_time": "2021-09-24T17:08:02.597Z"
   },
   {
    "duration": 13,
    "start_time": "2021-09-24T17:08:02.631Z"
   },
   {
    "duration": 38,
    "start_time": "2021-09-24T17:08:02.647Z"
   },
   {
    "duration": 20,
    "start_time": "2021-09-24T17:08:02.688Z"
   },
   {
    "duration": 24,
    "start_time": "2021-09-24T17:08:02.727Z"
   },
   {
    "duration": 29,
    "start_time": "2021-09-24T17:08:02.754Z"
   },
   {
    "duration": 45,
    "start_time": "2021-09-24T17:08:02.786Z"
   },
   {
    "duration": 29,
    "start_time": "2021-09-24T17:08:02.834Z"
   },
   {
    "duration": 13,
    "start_time": "2021-09-24T17:08:02.867Z"
   },
   {
    "duration": 53,
    "start_time": "2021-09-24T17:08:02.883Z"
   },
   {
    "duration": 22,
    "start_time": "2021-09-24T17:08:02.939Z"
   },
   {
    "duration": 6,
    "start_time": "2021-09-24T17:08:02.963Z"
   },
   {
    "duration": 29,
    "start_time": "2021-09-24T17:08:02.972Z"
   },
   {
    "duration": 24,
    "start_time": "2021-09-24T17:08:03.023Z"
   },
   {
    "duration": 25,
    "start_time": "2021-09-24T17:08:03.050Z"
   },
   {
    "duration": 58,
    "start_time": "2021-09-24T17:08:03.078Z"
   },
   {
    "duration": 14,
    "start_time": "2021-09-24T17:08:03.139Z"
   },
   {
    "duration": 6,
    "start_time": "2021-09-24T17:08:03.155Z"
   },
   {
    "duration": 9,
    "start_time": "2021-09-24T17:08:03.164Z"
   },
   {
    "duration": 7,
    "start_time": "2021-09-24T17:08:03.175Z"
   },
   {
    "duration": 18,
    "start_time": "2021-09-24T17:09:28.294Z"
   },
   {
    "duration": 4,
    "start_time": "2021-09-24T17:12:29.542Z"
   },
   {
    "duration": 9,
    "start_time": "2021-09-24T17:13:52.911Z"
   },
   {
    "duration": 348,
    "start_time": "2021-09-25T07:55:57.315Z"
   },
   {
    "duration": 801,
    "start_time": "2021-09-25T11:49:45.827Z"
   },
   {
    "duration": 186,
    "start_time": "2021-09-25T11:49:46.630Z"
   },
   {
    "duration": 25,
    "start_time": "2021-09-25T11:49:46.819Z"
   },
   {
    "duration": 29,
    "start_time": "2021-09-25T11:49:46.847Z"
   },
   {
    "duration": 36,
    "start_time": "2021-09-25T11:49:46.879Z"
   },
   {
    "duration": 47,
    "start_time": "2021-09-25T11:49:46.918Z"
   },
   {
    "duration": 27,
    "start_time": "2021-09-25T11:49:46.967Z"
   },
   {
    "duration": 7,
    "start_time": "2021-09-25T11:49:46.998Z"
   },
   {
    "duration": 108,
    "start_time": "2021-09-25T11:49:47.064Z"
   },
   {
    "duration": 23,
    "start_time": "2021-09-25T11:49:47.174Z"
   },
   {
    "duration": 80,
    "start_time": "2021-09-25T11:49:47.199Z"
   },
   {
    "duration": 194,
    "start_time": "2021-09-25T11:49:47.282Z"
   },
   {
    "duration": 211,
    "start_time": "2021-09-25T11:49:47.478Z"
   },
   {
    "duration": 127,
    "start_time": "2021-09-25T11:49:47.691Z"
   },
   {
    "duration": 61,
    "start_time": "2021-09-25T11:49:47.820Z"
   },
   {
    "duration": 56,
    "start_time": "2021-09-25T11:49:47.883Z"
   },
   {
    "duration": 21,
    "start_time": "2021-09-25T11:49:47.941Z"
   },
   {
    "duration": 15,
    "start_time": "2021-09-25T11:49:47.965Z"
   },
   {
    "duration": 99,
    "start_time": "2021-09-25T11:49:47.983Z"
   },
   {
    "duration": 18,
    "start_time": "2021-09-25T11:49:48.085Z"
   },
   {
    "duration": 18,
    "start_time": "2021-09-25T11:49:48.105Z"
   },
   {
    "duration": 53,
    "start_time": "2021-09-25T11:49:48.126Z"
   },
   {
    "duration": 5,
    "start_time": "2021-09-25T11:49:48.184Z"
   },
   {
    "duration": 10,
    "start_time": "2021-09-25T11:49:48.192Z"
   },
   {
    "duration": 25,
    "start_time": "2021-09-25T11:49:48.204Z"
   },
   {
    "duration": 45,
    "start_time": "2021-09-25T11:49:48.231Z"
   },
   {
    "duration": 19,
    "start_time": "2021-09-25T11:49:48.278Z"
   },
   {
    "duration": 18,
    "start_time": "2021-09-25T11:49:48.299Z"
   },
   {
    "duration": 54,
    "start_time": "2021-09-25T11:49:48.319Z"
   },
   {
    "duration": 19,
    "start_time": "2021-09-25T11:49:48.375Z"
   },
   {
    "duration": 12,
    "start_time": "2021-09-25T11:49:48.396Z"
   },
   {
    "duration": 52,
    "start_time": "2021-09-25T11:49:48.410Z"
   },
   {
    "duration": 14,
    "start_time": "2021-09-25T11:49:48.464Z"
   },
   {
    "duration": 6,
    "start_time": "2021-09-25T11:49:48.480Z"
   },
   {
    "duration": 30,
    "start_time": "2021-09-25T11:49:48.489Z"
   },
   {
    "duration": 43,
    "start_time": "2021-09-25T11:49:48.521Z"
   },
   {
    "duration": 22,
    "start_time": "2021-09-25T11:49:48.566Z"
   },
   {
    "duration": 18,
    "start_time": "2021-09-25T11:49:48.591Z"
   },
   {
    "duration": 12,
    "start_time": "2021-09-25T11:49:48.612Z"
   },
   {
    "duration": 6,
    "start_time": "2021-09-25T11:49:48.661Z"
   },
   {
    "duration": 13,
    "start_time": "2021-09-25T11:49:48.670Z"
   },
   {
    "duration": 10,
    "start_time": "2021-09-25T11:49:48.685Z"
   },
   {
    "duration": 8,
    "start_time": "2021-09-25T11:49:48.698Z"
   },
   {
    "duration": 363,
    "start_time": "2021-09-25T12:20:12.024Z"
   },
   {
    "duration": 6,
    "start_time": "2021-09-25T12:20:18.773Z"
   },
   {
    "duration": 592,
    "start_time": "2021-09-25T12:20:22.125Z"
   },
   {
    "duration": 776,
    "start_time": "2021-09-25T12:20:30.580Z"
   },
   {
    "duration": 201,
    "start_time": "2021-09-25T12:20:31.359Z"
   },
   {
    "duration": 29,
    "start_time": "2021-09-25T12:20:31.563Z"
   },
   {
    "duration": 16,
    "start_time": "2021-09-25T12:20:31.596Z"
   },
   {
    "duration": 86,
    "start_time": "2021-09-25T12:20:31.616Z"
   },
   {
    "duration": 11,
    "start_time": "2021-09-25T12:20:31.706Z"
   },
   {
    "duration": 56,
    "start_time": "2021-09-25T12:20:31.720Z"
   },
   {
    "duration": 6,
    "start_time": "2021-09-25T12:20:31.779Z"
   },
   {
    "duration": 93,
    "start_time": "2021-09-25T12:20:31.790Z"
   },
   {
    "duration": 25,
    "start_time": "2021-09-25T12:20:31.887Z"
   },
   {
    "duration": 55,
    "start_time": "2021-09-25T12:20:31.915Z"
   },
   {
    "duration": 106,
    "start_time": "2021-09-25T12:20:31.973Z"
   },
   {
    "duration": 114,
    "start_time": "2021-09-25T12:20:32.081Z"
   },
   {
    "duration": 88,
    "start_time": "2021-09-25T12:20:32.198Z"
   },
   {
    "duration": 61,
    "start_time": "2021-09-25T12:20:32.289Z"
   },
   {
    "duration": 63,
    "start_time": "2021-09-25T12:20:32.368Z"
   },
   {
    "duration": 5,
    "start_time": "2021-09-25T12:20:32.435Z"
   },
   {
    "duration": 18,
    "start_time": "2021-09-25T12:20:32.466Z"
   },
   {
    "duration": 90,
    "start_time": "2021-09-25T12:20:32.487Z"
   },
   {
    "duration": 17,
    "start_time": "2021-09-25T12:20:32.580Z"
   },
   {
    "duration": 16,
    "start_time": "2021-09-25T12:20:32.600Z"
   },
   {
    "duration": 57,
    "start_time": "2021-09-25T12:20:32.619Z"
   },
   {
    "duration": 6,
    "start_time": "2021-09-25T12:20:32.679Z"
   },
   {
    "duration": 12,
    "start_time": "2021-09-25T12:20:32.688Z"
   },
   {
    "duration": 29,
    "start_time": "2021-09-25T12:20:32.702Z"
   },
   {
    "duration": 54,
    "start_time": "2021-09-25T12:20:32.733Z"
   },
   {
    "duration": 19,
    "start_time": "2021-09-25T12:20:32.792Z"
   },
   {
    "duration": 19,
    "start_time": "2021-09-25T12:20:32.814Z"
   },
   {
    "duration": 46,
    "start_time": "2021-09-25T12:20:32.835Z"
   },
   {
    "duration": 21,
    "start_time": "2021-09-25T12:20:32.883Z"
   },
   {
    "duration": 125,
    "start_time": "2021-09-25T12:20:32.906Z"
   },
   {
    "duration": 12,
    "start_time": "2021-09-25T12:20:33.034Z"
   },
   {
    "duration": 36,
    "start_time": "2021-09-25T12:20:33.048Z"
   },
   {
    "duration": 12,
    "start_time": "2021-09-25T12:20:33.087Z"
   },
   {
    "duration": 6,
    "start_time": "2021-09-25T12:20:33.102Z"
   },
   {
    "duration": 33,
    "start_time": "2021-09-25T12:20:33.111Z"
   },
   {
    "duration": 37,
    "start_time": "2021-09-25T12:20:33.146Z"
   },
   {
    "duration": 23,
    "start_time": "2021-09-25T12:20:33.185Z"
   },
   {
    "duration": 17,
    "start_time": "2021-09-25T12:20:33.211Z"
   },
   {
    "duration": 52,
    "start_time": "2021-09-25T12:20:33.231Z"
   },
   {
    "duration": 6,
    "start_time": "2021-09-25T12:20:33.286Z"
   },
   {
    "duration": 12,
    "start_time": "2021-09-25T12:20:33.295Z"
   },
   {
    "duration": 12,
    "start_time": "2021-09-25T12:20:33.309Z"
   },
   {
    "duration": 7,
    "start_time": "2021-09-25T12:20:33.324Z"
   },
   {
    "duration": 382,
    "start_time": "2021-09-25T12:40:47.683Z"
   },
   {
    "duration": 98,
    "start_time": "2021-09-25T12:41:04.723Z"
   },
   {
    "duration": 93,
    "start_time": "2021-09-25T12:47:38.406Z"
   },
   {
    "duration": 91,
    "start_time": "2021-09-25T12:47:59.902Z"
   },
   {
    "duration": 132,
    "start_time": "2021-09-25T12:48:17.360Z"
   },
   {
    "duration": 103,
    "start_time": "2021-09-25T12:48:22.203Z"
   },
   {
    "duration": 96,
    "start_time": "2021-09-25T12:48:34.464Z"
   },
   {
    "duration": 100,
    "start_time": "2021-09-25T12:48:40.648Z"
   },
   {
    "duration": 101,
    "start_time": "2021-09-25T12:48:47.359Z"
   },
   {
    "duration": 98,
    "start_time": "2021-09-25T12:49:09.558Z"
   },
   {
    "duration": 14,
    "start_time": "2021-09-25T12:49:15.257Z"
   }
  ],
  "celltoolbar": "Create Assignment",
  "colab": {
   "collapsed_sections": [
    "E0vqbgi9ay0H",
    "VUC88oWjTJw2"
   ],
   "name": "yandex_music_project_2021.2.ipynb",
   "provenance": []
  },
  "kernelspec": {
   "display_name": "Python 3 (ipykernel)",
   "language": "python",
   "name": "python3"
  },
  "language_info": {
   "codemirror_mode": {
    "name": "ipython",
    "version": 3
   },
   "file_extension": ".py",
   "mimetype": "text/x-python",
   "name": "python",
   "nbconvert_exporter": "python",
   "pygments_lexer": "ipython3",
   "version": "3.9.5"
  },
  "toc": {
   "base_numbering": 1,
   "nav_menu": {},
   "number_sections": true,
   "sideBar": true,
   "skip_h1_title": true,
   "title_cell": "Table of Contents",
   "title_sidebar": "Contents",
   "toc_cell": false,
   "toc_position": {
    "height": "calc(100% - 180px)",
    "left": "10px",
    "top": "150px",
    "width": "238px"
   },
   "toc_section_display": true,
   "toc_window_display": false
  }
 },
 "nbformat": 4,
 "nbformat_minor": 1
}
